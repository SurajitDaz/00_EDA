{
 "cells": [
  {
   "cell_type": "markdown",
   "metadata": {},
   "source": [
    "# Lending Case Club Study"
   ]
  },
  {
   "attachments": {},
   "cell_type": "markdown",
   "metadata": {},
   "source": [
    "## Brief\n",
    "\n",
    "Lending Club is a consumer finance company which specializes in lending various types of loans to urban customers. When the company receives a loan application, the company has to make a decision for loan approval based on the applicant’s profile. Two types of risks are associated with the bank’s decision:\n",
    "\n",
    "- If the applicant is likely to repay the loan, then not approving the loan results in a loss of business to the company\n",
    "- If the applicant is not likely to repay the loan, i.e. he/she is likely to default, then approving the loan may lead to a financial loss for the company\n",
    "\n",
    "## Business Objective \n",
    "\n",
    "Lending Club wants to understand the driving factors behind loan default, i.e. the driver variables which are strong indicators of default. The company can utilize this knowledge for its portfolio and risk assessment.\n",
    "\n",
    "Objective is to identify the risky loan applicants at the time of loan application so that such loans can be reduced thereby cutting down the amount of credit loss. Identification of such applicants using EDA is the aim of this case study.\n",
    "\n",
    "To understand the driving factors (or driver variables) behind loan default, i.e. the variables which are strong indicators of default. The company can utilise this knowledge for its portfolio and risk assessment. And thus minimise the risk of losing money while lending to customers.\n",
    "\n",
    "### Target Variable\n",
    "\n",
    "##### Target Variable - 'Loan Status' based on the business explanation in objective\n",
    "\n",
    "\n"
   ]
  },
  {
   "cell_type": "markdown",
   "metadata": {
    "cell_id": "00002-85592f2e-cb31-4044-9db4-b0251cba0296",
    "deepnote_cell_type": "markdown",
    "id": "9_7_rOPiiJdi"
   },
   "source": [
    "<a id=\"01\" style=\"color:Blue; font-size: 24px;\">Import Libraries and set required parameters</a>"
   ]
  },
  {
   "cell_type": "code",
   "execution_count": 1,
   "metadata": {
    "cell_id": "00003-d0d0db7e-c6b1-4192-865c-5b07575ae644",
    "deepnote_cell_type": "code",
    "deepnote_to_be_reexecuted": false,
    "execution_millis": 2192,
    "execution_start": 1610905372147,
    "id": "jNCS_QesiJdn",
    "source_hash": "dbd3231b"
   },
   "outputs": [],
   "source": [
    "import numpy as np\n",
    "import pandas as pd\n",
    "from scipy import stats\n",
    "import matplotlib.pyplot as plt\n",
    "from matplotlib import rcParams\n",
    "import seaborn as sns\n",
    "import warnings\n",
    "warnings.filterwarnings('ignore')\n",
    "%matplotlib inline\n",
    "pd.set_option(\"display.Max_columns\", 500)\n",
    "pd.set_option('display.width', None)\n",
    "pd.set_option('display.max_colwidth', None)\n",
    "rcParams['figure.figsize'] = 14,7\n",
    "plt.style.use(\"fivethirtyeight\")"
   ]
  },
  {
   "cell_type": "markdown",
   "metadata": {
    "cell_id": "00004-b42f9488-d8a8-4711-b069-3c7169987db7",
    "deepnote_cell_type": "markdown",
    "id": "o2PxkjPEiJdo"
   },
   "source": [
    "## <a id=\"02\" style=\"color:Blue; font-size: 24px;\">Data Sourcing</a>"
   ]
  },
  {
   "cell_type": "code",
   "execution_count": 2,
   "metadata": {
    "cell_id": "00005-60b8163e-5453-4172-829e-feb3dde6af0e",
    "colab": {
     "base_uri": "https://localhost:8080/"
    },
    "deepnote_cell_type": "code",
    "deepnote_to_be_reexecuted": false,
    "executionInfo": {
     "elapsed": 3884,
     "status": "ok",
     "timestamp": 1610947543514,
     "user": {
      "displayName": "Surajit Das",
      "photoUrl": "",
      "userId": "12795377520497298003"
     },
     "user_tz": -330
    },
    "execution_millis": 2070,
    "execution_start": 1610905374347,
    "id": "6UuQ9BqliJdo",
    "outputId": "e2bf98c2-be56-4c49-fa59-15b70c74f81c",
    "source_hash": "eaede0b4"
   },
   "outputs": [
    {
     "name": "stdout",
     "output_type": "stream",
     "text": [
      "(39717, 111)\n"
     ]
    }
   ],
   "source": [
    "df = pd.read_csv('loan.csv',encoding = \"ISO-8859-1\", low_memory=False)\n",
    "print(df.shape)\n",
    "#df.head()"
   ]
  },
  {
   "cell_type": "code",
   "execution_count": 3,
   "metadata": {
    "cell_id": "00006-86ba688b-6c7e-45dd-8bc0-84fb94fb42e3",
    "colab": {
     "base_uri": "https://localhost:8080/"
    },
    "deepnote_cell_type": "code",
    "deepnote_to_be_reexecuted": false,
    "executionInfo": {
     "elapsed": 3878,
     "status": "ok",
     "timestamp": 1610947543514,
     "user": {
      "displayName": "Surajit Das",
      "photoUrl": "",
      "userId": "12795377520497298003"
     },
     "user_tz": -330
    },
    "execution_millis": 313,
    "execution_start": 1610905376419,
    "id": "KH2mNepNiJdp",
    "outputId": "fefea5ce-b4b7-43db-a1f2-3e2f5e2f7ff4",
    "source_hash": "d89f438"
   },
   "outputs": [
    {
     "name": "stdout",
     "output_type": "stream",
     "text": [
      "Index(['LoanStatNew', 'Description', 'Unnamed: 2', 'Unnamed: 3', 'Unnamed: 4',\n",
      "       'Unnamed: 5', 'Unnamed: 6', 'Unnamed: 7', 'Unnamed: 8', 'Unnamed: 9',\n",
      "       'Unnamed: 10'],\n",
      "      dtype='object')\n"
     ]
    }
   ],
   "source": [
    "meta_df=pd.read_excel(\"Data_Dictionary.xlsx\", engine='openpyxl')\n",
    "meta_df.set_index(meta_df[\"LoanStatNew\"], inplace=True)\n",
    "#meta_df = meta_df.loc[:, ~meta_df.columns.str.contains('^Unnamed')]\n",
    "print(meta_df.columns)\n",
    "#meta_df.head()"
   ]
  },
  {
   "cell_type": "markdown",
   "metadata": {
    "cell_id": "00007-e2b8dd04-0d79-411b-8fc3-d6f1b50945dd",
    "deepnote_cell_type": "markdown",
    "id": "jc_lMYcjiJdq"
   },
   "source": [
    "## <a id=\"03\" style=\"color:Blue; font-size: 24px;\">Functions</a>"
   ]
  },
  {
   "cell_type": "code",
   "execution_count": 4,
   "metadata": {
    "cell_id": "00008-48c55a0c-19de-4a86-aa1f-cbf70fc75b5b",
    "deepnote_cell_type": "code",
    "deepnote_to_be_reexecuted": false,
    "execution_millis": 46,
    "execution_start": 1610905376747,
    "id": "DDkjpvq7iJdq",
    "source_hash": "8d888e62"
   },
   "outputs": [],
   "source": [
    "# Function displaying meta data for each olumn with its description from data dictionary\n",
    "def qck(df):\n",
    "    #pd.set_option(\"display.Max_rows\", None)\n",
    "    print(f\"loan Dim: {df.shape}\")\n",
    "    summary = pd.DataFrame(df.dtypes,columns=['dtypes'])\n",
    "    summary['Name'] = summary.index\n",
    "    summary = summary[['Name','dtypes']]\n",
    "    summary['Missing'] = df.isnull().sum().values\n",
    "    summary['Missing%'] = 100*df.isnull().sum().values/len(df.index)\n",
    "    summary['Uniques'] = df.nunique().values \n",
    "    flt=meta_df[\"LoanStatNew\"].isin(df.columns)\n",
    "    meta_df1=meta_df.loc[flt]\n",
    "    summary=pd.merge(summary, meta_df1, left_index=True, right_index=True)\n",
    "    summary.sort_index(inplace=True)\n",
    "    summary.drop(columns=[\"Name\",\"LoanStatNew\"], axis=1, inplace=True)\n",
    "    return summary\n",
    "    #pd.reset_option('display.max_rows')\n",
    "\n",
    "# Function for dropping columns with given threshold percentage of null values\n",
    "def drop_null_col(df, per):\n",
    "    for i in df.columns:\n",
    "        if(100*df[i].isnull().sum()/len(df.index)>=per):\n",
    "            print(i)\n",
    "            df.drop(columns=i, axis=1, inplace=True)\n",
    "    print(\": Columns Removed\")\n",
    "\n",
    "# Function plotting for univariate variable based on variale types\n",
    "def uv(df,col,vartype,hue =None):  \n",
    "    \n",
    "    if vartype == 0:\n",
    "        plt.style.use(\"seaborn\")\n",
    "        plt.figure(figsize=(10, 4)) \n",
    "        ax1=plt.subplot(1,3,1)\n",
    "        ax1=sns.distplot(col)\n",
    "        ax1.set_title(\"Distribution Plot\")\n",
    "        ax2=plt.subplot(1,3,2)\n",
    "        ax2=sns.violinplot(data =df, x=col, inner=\"quartile\")\n",
    "        ax2.set_title(\"Violin Plot\")\n",
    "        ax3=plt.subplot(1,3,3)\n",
    "        ax3=sns.boxplot(data =df, x=col, orient='v')\n",
    "        ax3.set_title(\"Box Plot\")\n",
    "        \n",
    "    \n",
    "    elif vartype == 1:\n",
    "        plt.style.use(\"fivethirtyeight\")\n",
    "        temp = pd.Series(data = hue)\n",
    "        fig, ax = plt.subplots(figsize = (10, 4))\n",
    "        width = len(df[col].unique()) + 6 + 4*len(temp.unique())\n",
    "        #fig.set_size_inches(width , 7)\n",
    "        ax = sns.countplot(data = df, x= col, order=df[col].value_counts().index,hue = hue) \n",
    "        if len(temp.unique()) > 0:\n",
    "            for p in ax.patches:\n",
    "                ax.annotate('{:1.1f}%'.format((p.get_height()*100)/float(len(df))), (p.get_x()+0.05, p.get_height()+20))  \n",
    "        else:\n",
    "            for p in ax.patches:\n",
    "                ax.annotate(p.get_height(), (p.get_x()+0.32, p.get_height()+20)) \n",
    "        del temp\n",
    "    else:\n",
    "        exit\n",
    "    plt.tight_layout()    \n",
    "    plt.show()\n",
    "\n",
    "# Dictionary storing information content as value and key as variable name\n",
    "information_content=dict()\n",
    "\n",
    "# FUnction plotting default rate of categorical variables\n",
    "def grf2(df1, xxx, col,fig_w):\n",
    "    a_min=[]\n",
    "    b_max=[]\n",
    "    c_dif=[]\n",
    "    d_grp=[]\n",
    "    plt.figure(figsize = (15, fig_w))\n",
    "    plt.style.use(\"fivethirtyeight\")\n",
    "    c=0\n",
    "    for i in xxx:\n",
    "        c=c+1\n",
    "        plt.subplot(len(xxx)/col,col,c)\n",
    "        #gg=sns.color_palette(\"magma\", as_cmap=True)\n",
    "        ndf=df1.groupby([i])['z_loan_status'].mean().rename('Avg').reset_index()\n",
    "        a_min.append(round(ndf.Avg.min(), 2))\n",
    "        b_max.append(round(ndf.Avg.max(), 2)) \n",
    "        c_dif.append(round(ndf.Avg.max(), 2)-round(ndf.Avg.min(), 2)) \n",
    "        d_grp.append(f\"Default Rate\".upper() + f\" (Based On \"+f\" {i})\".upper())\n",
    "        gg=sns.barplot(data=ndf, x=i, y=\"Avg\",estimator=np.mean)\n",
    "        gg.set_xticklabels(gg.get_xticklabels(),rotation=90, fontsize=11)\n",
    "        gg.set_title(f\"Default Rate\".upper() + f\" (Based On \"+f\" {i})\".upper(), fontsize=16)\n",
    "        gg.set_xlabel(i, fontsize=14)\n",
    "        gg.set_ylabel(\"Default Rate\", fontsize=14)\n",
    "        plt.tight_layout()\n",
    "        for p in gg.patches:\n",
    "            gg.annotate(format(p.get_height(), '.2f') , \n",
    "                       (p.get_x() + p.get_width() / 2., p.get_height()), \n",
    "                       ha = 'center', va = 'center', \n",
    "                       size=12,\n",
    "                       xytext = (0, +8), \n",
    "                       textcoords = 'offset points')\n",
    "        information_content[i]=round(ndf.Avg.max(), 2)-round(ndf.Avg.min(), 2)\n",
    "        comp_df=pd.DataFrame({\"Feature\":d_grp,\"Max\":b_max,\"Min\":a_min,\"Diff\":c_dif})\n",
    "        comp_df=comp_df.sort_values(by=\"Diff\", ascending=False)\n",
    "    \n",
    "    print(comp_df)       \n",
    "    plt.show()\n",
    "\n",
    "# Function showing bar text\n",
    "def BarShowText(gg):\n",
    "     for p in gg.patches:  \n",
    "      gg.annotate(format(round(p.get_height()), '.2f'), \n",
    "                       (p.get_x() + p.get_width() / 2., p.get_height()), \n",
    "                       ha = 'center', va = 'center', \n",
    "                       size=12,\n",
    "                       xytext = (0, +8), \n",
    "                       textcoords = 'offset points')\n",
    "\n",
    "# Function plotting default rate on bar plot with two other categorical variables\n",
    "def default_rate_bivariate(df,col1,col2):\n",
    "    gg=sns.barplot(data=df, x=col1, y=\"z_loan_status\",hue=col2,estimator=np.mean,ci=None)\n",
    "    gg.set_xticklabels(gg.get_xticklabels(),rotation=90, fontsize=11)\n",
    "    gg.set_title(f\"Default Rate\", fontsize=16)\n",
    "    gg.set_ylabel(\"Default Rate\", fontsize=14)\n",
    "    plt.tight_layout()\n",
    "    for p in gg.patches:\n",
    "        gg.annotate(format(p.get_height(), '.2f') , \n",
    "                   (p.get_x() + p.get_width() / 2., p.get_height()), \n",
    "                   ha = 'center', va = 'center', \n",
    "                   size=12,\n",
    "                   xytext = (0, +8), \n",
    "                   textcoords = 'offset points')\n",
    "    plt.show()"
   ]
  },
  {
   "cell_type": "code",
   "execution_count": 5,
   "metadata": {
    "cell_id": "00009-3afabeb9-8e81-442f-a3f7-6a166feafcba",
    "colab": {
     "base_uri": "https://localhost:8080/",
     "height": 861
    },
    "deepnote_cell_type": "code",
    "deepnote_to_be_reexecuted": false,
    "executionInfo": {
     "elapsed": 4528,
     "status": "ok",
     "timestamp": 1610947544174,
     "user": {
      "displayName": "Surajit Das",
      "photoUrl": "",
      "userId": "12795377520497298003"
     },
     "user_tz": -330
    },
    "execution_millis": 1327,
    "execution_start": 1610905376808,
    "id": "0hw0rGEYiJdq",
    "outputId": "5b431404-9f50-470a-a12d-036fb5a41953",
    "source_hash": "25339fc4"
   },
   "outputs": [
    {
     "name": "stdout",
     "output_type": "stream",
     "text": [
      "loan Dim: (39717, 111)\n"
     ]
    },
    {
     "data": {
      "text/html": [
       "<div>\n",
       "<style scoped>\n",
       "    .dataframe tbody tr th:only-of-type {\n",
       "        vertical-align: middle;\n",
       "    }\n",
       "\n",
       "    .dataframe tbody tr th {\n",
       "        vertical-align: top;\n",
       "    }\n",
       "\n",
       "    .dataframe thead th {\n",
       "        text-align: right;\n",
       "    }\n",
       "</style>\n",
       "<table border=\"1\" class=\"dataframe\">\n",
       "  <thead>\n",
       "    <tr style=\"text-align: right;\">\n",
       "      <th></th>\n",
       "      <th>dtypes</th>\n",
       "      <th>Missing</th>\n",
       "      <th>Missing%</th>\n",
       "      <th>Uniques</th>\n",
       "      <th>Description</th>\n",
       "      <th>Unnamed: 2</th>\n",
       "      <th>Unnamed: 3</th>\n",
       "      <th>Unnamed: 4</th>\n",
       "      <th>Unnamed: 5</th>\n",
       "      <th>Unnamed: 6</th>\n",
       "      <th>Unnamed: 7</th>\n",
       "      <th>Unnamed: 8</th>\n",
       "      <th>Unnamed: 9</th>\n",
       "      <th>Unnamed: 10</th>\n",
       "    </tr>\n",
       "  </thead>\n",
       "  <tbody>\n",
       "    <tr>\n",
       "      <th>acc_now_delinq</th>\n",
       "      <td>int64</td>\n",
       "      <td>0</td>\n",
       "      <td>0.0</td>\n",
       "      <td>1</td>\n",
       "      <td>The number of accounts on which the borrower is now delinquent.</td>\n",
       "      <td>NaN</td>\n",
       "      <td>NaN</td>\n",
       "      <td>NaN</td>\n",
       "      <td>NaN</td>\n",
       "      <td>NaN</td>\n",
       "      <td>NaN</td>\n",
       "      <td>NaN</td>\n",
       "      <td>NaN</td>\n",
       "      <td>NaN</td>\n",
       "    </tr>\n",
       "    <tr>\n",
       "      <th>acc_open_past_24mths</th>\n",
       "      <td>float64</td>\n",
       "      <td>39717</td>\n",
       "      <td>100.0</td>\n",
       "      <td>0</td>\n",
       "      <td>Number of trades opened in past 24 months.</td>\n",
       "      <td>NaN</td>\n",
       "      <td>NaN</td>\n",
       "      <td>NaN</td>\n",
       "      <td>NaN</td>\n",
       "      <td>NaN</td>\n",
       "      <td>NaN</td>\n",
       "      <td>NaN</td>\n",
       "      <td>NaN</td>\n",
       "      <td>NaN</td>\n",
       "    </tr>\n",
       "    <tr>\n",
       "      <th>addr_state</th>\n",
       "      <td>object</td>\n",
       "      <td>0</td>\n",
       "      <td>0.0</td>\n",
       "      <td>50</td>\n",
       "      <td>The state provided by the borrower in the loan application</td>\n",
       "      <td>NaN</td>\n",
       "      <td>NaN</td>\n",
       "      <td>NaN</td>\n",
       "      <td>NaN</td>\n",
       "      <td>NaN</td>\n",
       "      <td>NaN</td>\n",
       "      <td>NaN</td>\n",
       "      <td>NaN</td>\n",
       "      <td>NaN</td>\n",
       "    </tr>\n",
       "    <tr>\n",
       "      <th>all_util</th>\n",
       "      <td>float64</td>\n",
       "      <td>39717</td>\n",
       "      <td>100.0</td>\n",
       "      <td>0</td>\n",
       "      <td>Balance to credit limit on all trades</td>\n",
       "      <td>NaN</td>\n",
       "      <td>NaN</td>\n",
       "      <td>NaN</td>\n",
       "      <td>NaN</td>\n",
       "      <td>NaN</td>\n",
       "      <td>NaN</td>\n",
       "      <td>NaN</td>\n",
       "      <td>NaN</td>\n",
       "      <td>NaN</td>\n",
       "    </tr>\n",
       "    <tr>\n",
       "      <th>annual_inc</th>\n",
       "      <td>float64</td>\n",
       "      <td>0</td>\n",
       "      <td>0.0</td>\n",
       "      <td>5318</td>\n",
       "      <td>The self-reported annual income provided by the borrower during registration.</td>\n",
       "      <td>NaN</td>\n",
       "      <td>NaN</td>\n",
       "      <td>NaN</td>\n",
       "      <td>NaN</td>\n",
       "      <td>NaN</td>\n",
       "      <td>NaN</td>\n",
       "      <td>NaN</td>\n",
       "      <td>NaN</td>\n",
       "      <td>NaN</td>\n",
       "    </tr>\n",
       "    <tr>\n",
       "      <th>...</th>\n",
       "      <td>...</td>\n",
       "      <td>...</td>\n",
       "      <td>...</td>\n",
       "      <td>...</td>\n",
       "      <td>...</td>\n",
       "      <td>...</td>\n",
       "      <td>...</td>\n",
       "      <td>...</td>\n",
       "      <td>...</td>\n",
       "      <td>...</td>\n",
       "      <td>...</td>\n",
       "      <td>...</td>\n",
       "      <td>...</td>\n",
       "      <td>...</td>\n",
       "    </tr>\n",
       "    <tr>\n",
       "      <th>total_rec_late_fee</th>\n",
       "      <td>float64</td>\n",
       "      <td>0</td>\n",
       "      <td>0.0</td>\n",
       "      <td>1356</td>\n",
       "      <td>Late fees received to date</td>\n",
       "      <td>NaN</td>\n",
       "      <td>NaN</td>\n",
       "      <td>NaN</td>\n",
       "      <td>NaN</td>\n",
       "      <td>NaN</td>\n",
       "      <td>NaN</td>\n",
       "      <td>NaN</td>\n",
       "      <td>NaN</td>\n",
       "      <td>NaN</td>\n",
       "    </tr>\n",
       "    <tr>\n",
       "      <th>total_rec_prncp</th>\n",
       "      <td>float64</td>\n",
       "      <td>0</td>\n",
       "      <td>0.0</td>\n",
       "      <td>7976</td>\n",
       "      <td>Principal received to date</td>\n",
       "      <td>NaN</td>\n",
       "      <td>NaN</td>\n",
       "      <td>NaN</td>\n",
       "      <td>NaN</td>\n",
       "      <td>NaN</td>\n",
       "      <td>NaN</td>\n",
       "      <td>NaN</td>\n",
       "      <td>NaN</td>\n",
       "      <td>NaN</td>\n",
       "    </tr>\n",
       "    <tr>\n",
       "      <th>url</th>\n",
       "      <td>object</td>\n",
       "      <td>0</td>\n",
       "      <td>0.0</td>\n",
       "      <td>39717</td>\n",
       "      <td>URL for the LC page with listing data.</td>\n",
       "      <td>NaN</td>\n",
       "      <td>NaN</td>\n",
       "      <td>NaN</td>\n",
       "      <td>NaN</td>\n",
       "      <td>NaN</td>\n",
       "      <td>NaN</td>\n",
       "      <td>NaN</td>\n",
       "      <td>NaN</td>\n",
       "      <td>NaN</td>\n",
       "    </tr>\n",
       "    <tr>\n",
       "      <th>verification_status</th>\n",
       "      <td>object</td>\n",
       "      <td>0</td>\n",
       "      <td>0.0</td>\n",
       "      <td>3</td>\n",
       "      <td>Indicates if income was verified by LC, not verified, or if the income source was verified</td>\n",
       "      <td>NaN</td>\n",
       "      <td>NaN</td>\n",
       "      <td>NaN</td>\n",
       "      <td>NaN</td>\n",
       "      <td>NaN</td>\n",
       "      <td>NaN</td>\n",
       "      <td>NaN</td>\n",
       "      <td>NaN</td>\n",
       "      <td>NaN</td>\n",
       "    </tr>\n",
       "    <tr>\n",
       "      <th>zip_code</th>\n",
       "      <td>object</td>\n",
       "      <td>0</td>\n",
       "      <td>0.0</td>\n",
       "      <td>823</td>\n",
       "      <td>The first 3 numbers of the zip code provided by the borrower in the loan application.</td>\n",
       "      <td>NaN</td>\n",
       "      <td>NaN</td>\n",
       "      <td>NaN</td>\n",
       "      <td>NaN</td>\n",
       "      <td>NaN</td>\n",
       "      <td>NaN</td>\n",
       "      <td>NaN</td>\n",
       "      <td>NaN</td>\n",
       "      <td>NaN</td>\n",
       "    </tr>\n",
       "  </tbody>\n",
       "</table>\n",
       "<p>109 rows × 14 columns</p>\n",
       "</div>"
      ],
      "text/plain": [
       "                       dtypes  Missing  Missing%  Uniques  \\\n",
       "acc_now_delinq          int64        0       0.0        1   \n",
       "acc_open_past_24mths  float64    39717     100.0        0   \n",
       "addr_state             object        0       0.0       50   \n",
       "all_util              float64    39717     100.0        0   \n",
       "annual_inc            float64        0       0.0     5318   \n",
       "...                       ...      ...       ...      ...   \n",
       "total_rec_late_fee    float64        0       0.0     1356   \n",
       "total_rec_prncp       float64        0       0.0     7976   \n",
       "url                    object        0       0.0    39717   \n",
       "verification_status    object        0       0.0        3   \n",
       "zip_code               object        0       0.0      823   \n",
       "\n",
       "                                                                                                     Description  \\\n",
       "acc_now_delinq                                   The number of accounts on which the borrower is now delinquent.   \n",
       "acc_open_past_24mths                                                  Number of trades opened in past 24 months.   \n",
       "addr_state                                            The state provided by the borrower in the loan application   \n",
       "all_util                                                                   Balance to credit limit on all trades   \n",
       "annual_inc                         The self-reported annual income provided by the borrower during registration.   \n",
       "...                                                                                                          ...   \n",
       "total_rec_late_fee                                                                    Late fees received to date   \n",
       "total_rec_prncp                                                                       Principal received to date   \n",
       "url                                                                       URL for the LC page with listing data.   \n",
       "verification_status   Indicates if income was verified by LC, not verified, or if the income source was verified   \n",
       "zip_code                   The first 3 numbers of the zip code provided by the borrower in the loan application.   \n",
       "\n",
       "                      Unnamed: 2  Unnamed: 3  Unnamed: 4  Unnamed: 5  \\\n",
       "acc_now_delinq               NaN         NaN         NaN         NaN   \n",
       "acc_open_past_24mths         NaN         NaN         NaN         NaN   \n",
       "addr_state                   NaN         NaN         NaN         NaN   \n",
       "all_util                     NaN         NaN         NaN         NaN   \n",
       "annual_inc                   NaN         NaN         NaN         NaN   \n",
       "...                          ...         ...         ...         ...   \n",
       "total_rec_late_fee           NaN         NaN         NaN         NaN   \n",
       "total_rec_prncp              NaN         NaN         NaN         NaN   \n",
       "url                          NaN         NaN         NaN         NaN   \n",
       "verification_status          NaN         NaN         NaN         NaN   \n",
       "zip_code                     NaN         NaN         NaN         NaN   \n",
       "\n",
       "                      Unnamed: 6  Unnamed: 7  Unnamed: 8  Unnamed: 9  \\\n",
       "acc_now_delinq               NaN         NaN         NaN         NaN   \n",
       "acc_open_past_24mths         NaN         NaN         NaN         NaN   \n",
       "addr_state                   NaN         NaN         NaN         NaN   \n",
       "all_util                     NaN         NaN         NaN         NaN   \n",
       "annual_inc                   NaN         NaN         NaN         NaN   \n",
       "...                          ...         ...         ...         ...   \n",
       "total_rec_late_fee           NaN         NaN         NaN         NaN   \n",
       "total_rec_prncp              NaN         NaN         NaN         NaN   \n",
       "url                          NaN         NaN         NaN         NaN   \n",
       "verification_status          NaN         NaN         NaN         NaN   \n",
       "zip_code                     NaN         NaN         NaN         NaN   \n",
       "\n",
       "                      Unnamed: 10  \n",
       "acc_now_delinq                NaN  \n",
       "acc_open_past_24mths          NaN  \n",
       "addr_state                    NaN  \n",
       "all_util                      NaN  \n",
       "annual_inc                    NaN  \n",
       "...                           ...  \n",
       "total_rec_late_fee            NaN  \n",
       "total_rec_prncp               NaN  \n",
       "url                           NaN  \n",
       "verification_status           NaN  \n",
       "zip_code                      NaN  \n",
       "\n",
       "[109 rows x 14 columns]"
      ]
     },
     "execution_count": 5,
     "metadata": {},
     "output_type": "execute_result"
    }
   ],
   "source": [
    "sdf=qck(df)\n",
    "sdf"
   ]
  },
  {
   "cell_type": "code",
   "execution_count": 6,
   "metadata": {
    "cell_id": "00010-11fb26d6-d6a0-4ea4-adef-80e0bccef193",
    "colab": {
     "base_uri": "https://localhost:8080/",
     "height": 346
    },
    "deepnote_cell_type": "code",
    "deepnote_to_be_reexecuted": false,
    "executionInfo": {
     "elapsed": 4521,
     "status": "ok",
     "timestamp": 1610947544175,
     "user": {
      "displayName": "Surajit Das",
      "photoUrl": "",
      "userId": "12795377520497298003"
     },
     "user_tz": -330
    },
    "execution_millis": 913,
    "execution_start": 1610905378165,
    "id": "lVo9vctniJdr",
    "outputId": "da1d905c-a7df-4bf7-dea6-88d329e59ef1",
    "source_hash": "f88152d9"
   },
   "outputs": [
    {
     "data": {
      "text/html": [
       "<div>\n",
       "<style scoped>\n",
       "    .dataframe tbody tr th:only-of-type {\n",
       "        vertical-align: middle;\n",
       "    }\n",
       "\n",
       "    .dataframe tbody tr th {\n",
       "        vertical-align: top;\n",
       "    }\n",
       "\n",
       "    .dataframe thead th {\n",
       "        text-align: right;\n",
       "    }\n",
       "</style>\n",
       "<table border=\"1\" class=\"dataframe\">\n",
       "  <thead>\n",
       "    <tr style=\"text-align: right;\">\n",
       "      <th></th>\n",
       "      <th>id</th>\n",
       "      <th>member_id</th>\n",
       "      <th>loan_amnt</th>\n",
       "      <th>funded_amnt</th>\n",
       "      <th>funded_amnt_inv</th>\n",
       "      <th>installment</th>\n",
       "      <th>annual_inc</th>\n",
       "      <th>dti</th>\n",
       "      <th>delinq_2yrs</th>\n",
       "      <th>inq_last_6mths</th>\n",
       "      <th>mths_since_last_delinq</th>\n",
       "      <th>mths_since_last_record</th>\n",
       "      <th>open_acc</th>\n",
       "      <th>pub_rec</th>\n",
       "      <th>revol_bal</th>\n",
       "      <th>total_acc</th>\n",
       "      <th>out_prncp</th>\n",
       "      <th>out_prncp_inv</th>\n",
       "      <th>total_pymnt</th>\n",
       "      <th>total_pymnt_inv</th>\n",
       "      <th>total_rec_prncp</th>\n",
       "      <th>total_rec_int</th>\n",
       "      <th>total_rec_late_fee</th>\n",
       "      <th>recoveries</th>\n",
       "      <th>collection_recovery_fee</th>\n",
       "      <th>last_pymnt_amnt</th>\n",
       "      <th>collections_12_mths_ex_med</th>\n",
       "      <th>mths_since_last_major_derog</th>\n",
       "      <th>policy_code</th>\n",
       "      <th>annual_inc_joint</th>\n",
       "      <th>dti_joint</th>\n",
       "      <th>verification_status_joint</th>\n",
       "      <th>acc_now_delinq</th>\n",
       "      <th>tot_coll_amt</th>\n",
       "      <th>tot_cur_bal</th>\n",
       "      <th>open_acc_6m</th>\n",
       "      <th>open_il_6m</th>\n",
       "      <th>open_il_12m</th>\n",
       "      <th>open_il_24m</th>\n",
       "      <th>mths_since_rcnt_il</th>\n",
       "      <th>total_bal_il</th>\n",
       "      <th>il_util</th>\n",
       "      <th>open_rv_12m</th>\n",
       "      <th>open_rv_24m</th>\n",
       "      <th>max_bal_bc</th>\n",
       "      <th>all_util</th>\n",
       "      <th>total_rev_hi_lim</th>\n",
       "      <th>inq_fi</th>\n",
       "      <th>total_cu_tl</th>\n",
       "      <th>inq_last_12m</th>\n",
       "      <th>acc_open_past_24mths</th>\n",
       "      <th>avg_cur_bal</th>\n",
       "      <th>bc_open_to_buy</th>\n",
       "      <th>bc_util</th>\n",
       "      <th>chargeoff_within_12_mths</th>\n",
       "      <th>delinq_amnt</th>\n",
       "      <th>mo_sin_old_il_acct</th>\n",
       "      <th>mo_sin_old_rev_tl_op</th>\n",
       "      <th>mo_sin_rcnt_rev_tl_op</th>\n",
       "      <th>mo_sin_rcnt_tl</th>\n",
       "      <th>mort_acc</th>\n",
       "      <th>mths_since_recent_bc</th>\n",
       "      <th>mths_since_recent_bc_dlq</th>\n",
       "      <th>mths_since_recent_inq</th>\n",
       "      <th>mths_since_recent_revol_delinq</th>\n",
       "      <th>num_accts_ever_120_pd</th>\n",
       "      <th>num_actv_bc_tl</th>\n",
       "      <th>num_actv_rev_tl</th>\n",
       "      <th>num_bc_sats</th>\n",
       "      <th>num_bc_tl</th>\n",
       "      <th>num_il_tl</th>\n",
       "      <th>num_op_rev_tl</th>\n",
       "      <th>num_rev_accts</th>\n",
       "      <th>num_rev_tl_bal_gt_0</th>\n",
       "      <th>num_sats</th>\n",
       "      <th>num_tl_120dpd_2m</th>\n",
       "      <th>num_tl_30dpd</th>\n",
       "      <th>num_tl_90g_dpd_24m</th>\n",
       "      <th>num_tl_op_past_12m</th>\n",
       "      <th>pct_tl_nvr_dlq</th>\n",
       "      <th>percent_bc_gt_75</th>\n",
       "      <th>pub_rec_bankruptcies</th>\n",
       "      <th>tax_liens</th>\n",
       "      <th>tot_hi_cred_lim</th>\n",
       "      <th>total_bal_ex_mort</th>\n",
       "      <th>total_bc_limit</th>\n",
       "      <th>total_il_high_credit_limit</th>\n",
       "    </tr>\n",
       "  </thead>\n",
       "  <tbody>\n",
       "    <tr>\n",
       "      <th>count</th>\n",
       "      <td>3.971700e+04</td>\n",
       "      <td>3.971700e+04</td>\n",
       "      <td>39717.000000</td>\n",
       "      <td>39717.000000</td>\n",
       "      <td>39717.000000</td>\n",
       "      <td>39717.000000</td>\n",
       "      <td>3.971700e+04</td>\n",
       "      <td>39717.000000</td>\n",
       "      <td>39717.000000</td>\n",
       "      <td>39717.000000</td>\n",
       "      <td>14035.000000</td>\n",
       "      <td>2786.000000</td>\n",
       "      <td>39717.000000</td>\n",
       "      <td>39717.000000</td>\n",
       "      <td>39717.000000</td>\n",
       "      <td>39717.000000</td>\n",
       "      <td>39717.000000</td>\n",
       "      <td>39717.000000</td>\n",
       "      <td>39717.000000</td>\n",
       "      <td>39717.000000</td>\n",
       "      <td>39717.000000</td>\n",
       "      <td>39717.000000</td>\n",
       "      <td>39717.000000</td>\n",
       "      <td>39717.000000</td>\n",
       "      <td>39717.000000</td>\n",
       "      <td>39717.000000</td>\n",
       "      <td>39661.0</td>\n",
       "      <td>0.0</td>\n",
       "      <td>39717.0</td>\n",
       "      <td>0.0</td>\n",
       "      <td>0.0</td>\n",
       "      <td>0.0</td>\n",
       "      <td>39717.0</td>\n",
       "      <td>0.0</td>\n",
       "      <td>0.0</td>\n",
       "      <td>0.0</td>\n",
       "      <td>0.0</td>\n",
       "      <td>0.0</td>\n",
       "      <td>0.0</td>\n",
       "      <td>0.0</td>\n",
       "      <td>0.0</td>\n",
       "      <td>0.0</td>\n",
       "      <td>0.0</td>\n",
       "      <td>0.0</td>\n",
       "      <td>0.0</td>\n",
       "      <td>0.0</td>\n",
       "      <td>0.0</td>\n",
       "      <td>0.0</td>\n",
       "      <td>0.0</td>\n",
       "      <td>0.0</td>\n",
       "      <td>0.0</td>\n",
       "      <td>0.0</td>\n",
       "      <td>0.0</td>\n",
       "      <td>0.0</td>\n",
       "      <td>39661.0</td>\n",
       "      <td>39717.0</td>\n",
       "      <td>0.0</td>\n",
       "      <td>0.0</td>\n",
       "      <td>0.0</td>\n",
       "      <td>0.0</td>\n",
       "      <td>0.0</td>\n",
       "      <td>0.0</td>\n",
       "      <td>0.0</td>\n",
       "      <td>0.0</td>\n",
       "      <td>0.0</td>\n",
       "      <td>0.0</td>\n",
       "      <td>0.0</td>\n",
       "      <td>0.0</td>\n",
       "      <td>0.0</td>\n",
       "      <td>0.0</td>\n",
       "      <td>0.0</td>\n",
       "      <td>0.0</td>\n",
       "      <td>0.0</td>\n",
       "      <td>0.0</td>\n",
       "      <td>0.0</td>\n",
       "      <td>0.0</td>\n",
       "      <td>0.0</td>\n",
       "      <td>0.0</td>\n",
       "      <td>0.0</td>\n",
       "      <td>0.0</td>\n",
       "      <td>0.0</td>\n",
       "      <td>39020.000000</td>\n",
       "      <td>39678.0</td>\n",
       "      <td>0.0</td>\n",
       "      <td>0.0</td>\n",
       "      <td>0.0</td>\n",
       "      <td>0.0</td>\n",
       "    </tr>\n",
       "    <tr>\n",
       "      <th>mean</th>\n",
       "      <td>6.831319e+05</td>\n",
       "      <td>8.504636e+05</td>\n",
       "      <td>11219.443815</td>\n",
       "      <td>10947.713196</td>\n",
       "      <td>10397.448868</td>\n",
       "      <td>324.561922</td>\n",
       "      <td>6.896893e+04</td>\n",
       "      <td>13.315130</td>\n",
       "      <td>0.146512</td>\n",
       "      <td>0.869200</td>\n",
       "      <td>35.900962</td>\n",
       "      <td>69.698134</td>\n",
       "      <td>9.294408</td>\n",
       "      <td>0.055065</td>\n",
       "      <td>13382.528086</td>\n",
       "      <td>22.088828</td>\n",
       "      <td>51.227887</td>\n",
       "      <td>50.989768</td>\n",
       "      <td>12153.596544</td>\n",
       "      <td>11567.149118</td>\n",
       "      <td>9793.348813</td>\n",
       "      <td>2263.663172</td>\n",
       "      <td>1.363015</td>\n",
       "      <td>95.221624</td>\n",
       "      <td>12.406112</td>\n",
       "      <td>2678.826162</td>\n",
       "      <td>0.0</td>\n",
       "      <td>NaN</td>\n",
       "      <td>1.0</td>\n",
       "      <td>NaN</td>\n",
       "      <td>NaN</td>\n",
       "      <td>NaN</td>\n",
       "      <td>0.0</td>\n",
       "      <td>NaN</td>\n",
       "      <td>NaN</td>\n",
       "      <td>NaN</td>\n",
       "      <td>NaN</td>\n",
       "      <td>NaN</td>\n",
       "      <td>NaN</td>\n",
       "      <td>NaN</td>\n",
       "      <td>NaN</td>\n",
       "      <td>NaN</td>\n",
       "      <td>NaN</td>\n",
       "      <td>NaN</td>\n",
       "      <td>NaN</td>\n",
       "      <td>NaN</td>\n",
       "      <td>NaN</td>\n",
       "      <td>NaN</td>\n",
       "      <td>NaN</td>\n",
       "      <td>NaN</td>\n",
       "      <td>NaN</td>\n",
       "      <td>NaN</td>\n",
       "      <td>NaN</td>\n",
       "      <td>NaN</td>\n",
       "      <td>0.0</td>\n",
       "      <td>0.0</td>\n",
       "      <td>NaN</td>\n",
       "      <td>NaN</td>\n",
       "      <td>NaN</td>\n",
       "      <td>NaN</td>\n",
       "      <td>NaN</td>\n",
       "      <td>NaN</td>\n",
       "      <td>NaN</td>\n",
       "      <td>NaN</td>\n",
       "      <td>NaN</td>\n",
       "      <td>NaN</td>\n",
       "      <td>NaN</td>\n",
       "      <td>NaN</td>\n",
       "      <td>NaN</td>\n",
       "      <td>NaN</td>\n",
       "      <td>NaN</td>\n",
       "      <td>NaN</td>\n",
       "      <td>NaN</td>\n",
       "      <td>NaN</td>\n",
       "      <td>NaN</td>\n",
       "      <td>NaN</td>\n",
       "      <td>NaN</td>\n",
       "      <td>NaN</td>\n",
       "      <td>NaN</td>\n",
       "      <td>NaN</td>\n",
       "      <td>NaN</td>\n",
       "      <td>0.043260</td>\n",
       "      <td>0.0</td>\n",
       "      <td>NaN</td>\n",
       "      <td>NaN</td>\n",
       "      <td>NaN</td>\n",
       "      <td>NaN</td>\n",
       "    </tr>\n",
       "    <tr>\n",
       "      <th>std</th>\n",
       "      <td>2.106941e+05</td>\n",
       "      <td>2.656783e+05</td>\n",
       "      <td>7456.670694</td>\n",
       "      <td>7187.238670</td>\n",
       "      <td>7128.450439</td>\n",
       "      <td>208.874874</td>\n",
       "      <td>6.379377e+04</td>\n",
       "      <td>6.678594</td>\n",
       "      <td>0.491812</td>\n",
       "      <td>1.070219</td>\n",
       "      <td>22.020060</td>\n",
       "      <td>43.822529</td>\n",
       "      <td>4.400282</td>\n",
       "      <td>0.237200</td>\n",
       "      <td>15885.016641</td>\n",
       "      <td>11.401709</td>\n",
       "      <td>375.172839</td>\n",
       "      <td>373.824457</td>\n",
       "      <td>9042.040766</td>\n",
       "      <td>8942.672613</td>\n",
       "      <td>7065.522127</td>\n",
       "      <td>2608.111964</td>\n",
       "      <td>7.289979</td>\n",
       "      <td>688.744771</td>\n",
       "      <td>148.671593</td>\n",
       "      <td>4447.136012</td>\n",
       "      <td>0.0</td>\n",
       "      <td>NaN</td>\n",
       "      <td>0.0</td>\n",
       "      <td>NaN</td>\n",
       "      <td>NaN</td>\n",
       "      <td>NaN</td>\n",
       "      <td>0.0</td>\n",
       "      <td>NaN</td>\n",
       "      <td>NaN</td>\n",
       "      <td>NaN</td>\n",
       "      <td>NaN</td>\n",
       "      <td>NaN</td>\n",
       "      <td>NaN</td>\n",
       "      <td>NaN</td>\n",
       "      <td>NaN</td>\n",
       "      <td>NaN</td>\n",
       "      <td>NaN</td>\n",
       "      <td>NaN</td>\n",
       "      <td>NaN</td>\n",
       "      <td>NaN</td>\n",
       "      <td>NaN</td>\n",
       "      <td>NaN</td>\n",
       "      <td>NaN</td>\n",
       "      <td>NaN</td>\n",
       "      <td>NaN</td>\n",
       "      <td>NaN</td>\n",
       "      <td>NaN</td>\n",
       "      <td>NaN</td>\n",
       "      <td>0.0</td>\n",
       "      <td>0.0</td>\n",
       "      <td>NaN</td>\n",
       "      <td>NaN</td>\n",
       "      <td>NaN</td>\n",
       "      <td>NaN</td>\n",
       "      <td>NaN</td>\n",
       "      <td>NaN</td>\n",
       "      <td>NaN</td>\n",
       "      <td>NaN</td>\n",
       "      <td>NaN</td>\n",
       "      <td>NaN</td>\n",
       "      <td>NaN</td>\n",
       "      <td>NaN</td>\n",
       "      <td>NaN</td>\n",
       "      <td>NaN</td>\n",
       "      <td>NaN</td>\n",
       "      <td>NaN</td>\n",
       "      <td>NaN</td>\n",
       "      <td>NaN</td>\n",
       "      <td>NaN</td>\n",
       "      <td>NaN</td>\n",
       "      <td>NaN</td>\n",
       "      <td>NaN</td>\n",
       "      <td>NaN</td>\n",
       "      <td>NaN</td>\n",
       "      <td>NaN</td>\n",
       "      <td>0.204324</td>\n",
       "      <td>0.0</td>\n",
       "      <td>NaN</td>\n",
       "      <td>NaN</td>\n",
       "      <td>NaN</td>\n",
       "      <td>NaN</td>\n",
       "    </tr>\n",
       "    <tr>\n",
       "      <th>min</th>\n",
       "      <td>5.473400e+04</td>\n",
       "      <td>7.069900e+04</td>\n",
       "      <td>500.000000</td>\n",
       "      <td>500.000000</td>\n",
       "      <td>0.000000</td>\n",
       "      <td>15.690000</td>\n",
       "      <td>4.000000e+03</td>\n",
       "      <td>0.000000</td>\n",
       "      <td>0.000000</td>\n",
       "      <td>0.000000</td>\n",
       "      <td>0.000000</td>\n",
       "      <td>0.000000</td>\n",
       "      <td>2.000000</td>\n",
       "      <td>0.000000</td>\n",
       "      <td>0.000000</td>\n",
       "      <td>2.000000</td>\n",
       "      <td>0.000000</td>\n",
       "      <td>0.000000</td>\n",
       "      <td>0.000000</td>\n",
       "      <td>0.000000</td>\n",
       "      <td>0.000000</td>\n",
       "      <td>0.000000</td>\n",
       "      <td>0.000000</td>\n",
       "      <td>0.000000</td>\n",
       "      <td>0.000000</td>\n",
       "      <td>0.000000</td>\n",
       "      <td>0.0</td>\n",
       "      <td>NaN</td>\n",
       "      <td>1.0</td>\n",
       "      <td>NaN</td>\n",
       "      <td>NaN</td>\n",
       "      <td>NaN</td>\n",
       "      <td>0.0</td>\n",
       "      <td>NaN</td>\n",
       "      <td>NaN</td>\n",
       "      <td>NaN</td>\n",
       "      <td>NaN</td>\n",
       "      <td>NaN</td>\n",
       "      <td>NaN</td>\n",
       "      <td>NaN</td>\n",
       "      <td>NaN</td>\n",
       "      <td>NaN</td>\n",
       "      <td>NaN</td>\n",
       "      <td>NaN</td>\n",
       "      <td>NaN</td>\n",
       "      <td>NaN</td>\n",
       "      <td>NaN</td>\n",
       "      <td>NaN</td>\n",
       "      <td>NaN</td>\n",
       "      <td>NaN</td>\n",
       "      <td>NaN</td>\n",
       "      <td>NaN</td>\n",
       "      <td>NaN</td>\n",
       "      <td>NaN</td>\n",
       "      <td>0.0</td>\n",
       "      <td>0.0</td>\n",
       "      <td>NaN</td>\n",
       "      <td>NaN</td>\n",
       "      <td>NaN</td>\n",
       "      <td>NaN</td>\n",
       "      <td>NaN</td>\n",
       "      <td>NaN</td>\n",
       "      <td>NaN</td>\n",
       "      <td>NaN</td>\n",
       "      <td>NaN</td>\n",
       "      <td>NaN</td>\n",
       "      <td>NaN</td>\n",
       "      <td>NaN</td>\n",
       "      <td>NaN</td>\n",
       "      <td>NaN</td>\n",
       "      <td>NaN</td>\n",
       "      <td>NaN</td>\n",
       "      <td>NaN</td>\n",
       "      <td>NaN</td>\n",
       "      <td>NaN</td>\n",
       "      <td>NaN</td>\n",
       "      <td>NaN</td>\n",
       "      <td>NaN</td>\n",
       "      <td>NaN</td>\n",
       "      <td>NaN</td>\n",
       "      <td>NaN</td>\n",
       "      <td>0.000000</td>\n",
       "      <td>0.0</td>\n",
       "      <td>NaN</td>\n",
       "      <td>NaN</td>\n",
       "      <td>NaN</td>\n",
       "      <td>NaN</td>\n",
       "    </tr>\n",
       "    <tr>\n",
       "      <th>25%</th>\n",
       "      <td>5.162210e+05</td>\n",
       "      <td>6.667800e+05</td>\n",
       "      <td>5500.000000</td>\n",
       "      <td>5400.000000</td>\n",
       "      <td>5000.000000</td>\n",
       "      <td>167.020000</td>\n",
       "      <td>4.040400e+04</td>\n",
       "      <td>8.170000</td>\n",
       "      <td>0.000000</td>\n",
       "      <td>0.000000</td>\n",
       "      <td>18.000000</td>\n",
       "      <td>22.000000</td>\n",
       "      <td>6.000000</td>\n",
       "      <td>0.000000</td>\n",
       "      <td>3703.000000</td>\n",
       "      <td>13.000000</td>\n",
       "      <td>0.000000</td>\n",
       "      <td>0.000000</td>\n",
       "      <td>5576.930000</td>\n",
       "      <td>5112.310000</td>\n",
       "      <td>4600.000000</td>\n",
       "      <td>662.180000</td>\n",
       "      <td>0.000000</td>\n",
       "      <td>0.000000</td>\n",
       "      <td>0.000000</td>\n",
       "      <td>218.680000</td>\n",
       "      <td>0.0</td>\n",
       "      <td>NaN</td>\n",
       "      <td>1.0</td>\n",
       "      <td>NaN</td>\n",
       "      <td>NaN</td>\n",
       "      <td>NaN</td>\n",
       "      <td>0.0</td>\n",
       "      <td>NaN</td>\n",
       "      <td>NaN</td>\n",
       "      <td>NaN</td>\n",
       "      <td>NaN</td>\n",
       "      <td>NaN</td>\n",
       "      <td>NaN</td>\n",
       "      <td>NaN</td>\n",
       "      <td>NaN</td>\n",
       "      <td>NaN</td>\n",
       "      <td>NaN</td>\n",
       "      <td>NaN</td>\n",
       "      <td>NaN</td>\n",
       "      <td>NaN</td>\n",
       "      <td>NaN</td>\n",
       "      <td>NaN</td>\n",
       "      <td>NaN</td>\n",
       "      <td>NaN</td>\n",
       "      <td>NaN</td>\n",
       "      <td>NaN</td>\n",
       "      <td>NaN</td>\n",
       "      <td>NaN</td>\n",
       "      <td>0.0</td>\n",
       "      <td>0.0</td>\n",
       "      <td>NaN</td>\n",
       "      <td>NaN</td>\n",
       "      <td>NaN</td>\n",
       "      <td>NaN</td>\n",
       "      <td>NaN</td>\n",
       "      <td>NaN</td>\n",
       "      <td>NaN</td>\n",
       "      <td>NaN</td>\n",
       "      <td>NaN</td>\n",
       "      <td>NaN</td>\n",
       "      <td>NaN</td>\n",
       "      <td>NaN</td>\n",
       "      <td>NaN</td>\n",
       "      <td>NaN</td>\n",
       "      <td>NaN</td>\n",
       "      <td>NaN</td>\n",
       "      <td>NaN</td>\n",
       "      <td>NaN</td>\n",
       "      <td>NaN</td>\n",
       "      <td>NaN</td>\n",
       "      <td>NaN</td>\n",
       "      <td>NaN</td>\n",
       "      <td>NaN</td>\n",
       "      <td>NaN</td>\n",
       "      <td>NaN</td>\n",
       "      <td>0.000000</td>\n",
       "      <td>0.0</td>\n",
       "      <td>NaN</td>\n",
       "      <td>NaN</td>\n",
       "      <td>NaN</td>\n",
       "      <td>NaN</td>\n",
       "    </tr>\n",
       "    <tr>\n",
       "      <th>50%</th>\n",
       "      <td>6.656650e+05</td>\n",
       "      <td>8.508120e+05</td>\n",
       "      <td>10000.000000</td>\n",
       "      <td>9600.000000</td>\n",
       "      <td>8975.000000</td>\n",
       "      <td>280.220000</td>\n",
       "      <td>5.900000e+04</td>\n",
       "      <td>13.400000</td>\n",
       "      <td>0.000000</td>\n",
       "      <td>1.000000</td>\n",
       "      <td>34.000000</td>\n",
       "      <td>90.000000</td>\n",
       "      <td>9.000000</td>\n",
       "      <td>0.000000</td>\n",
       "      <td>8850.000000</td>\n",
       "      <td>20.000000</td>\n",
       "      <td>0.000000</td>\n",
       "      <td>0.000000</td>\n",
       "      <td>9899.640319</td>\n",
       "      <td>9287.150000</td>\n",
       "      <td>8000.000000</td>\n",
       "      <td>1348.910000</td>\n",
       "      <td>0.000000</td>\n",
       "      <td>0.000000</td>\n",
       "      <td>0.000000</td>\n",
       "      <td>546.140000</td>\n",
       "      <td>0.0</td>\n",
       "      <td>NaN</td>\n",
       "      <td>1.0</td>\n",
       "      <td>NaN</td>\n",
       "      <td>NaN</td>\n",
       "      <td>NaN</td>\n",
       "      <td>0.0</td>\n",
       "      <td>NaN</td>\n",
       "      <td>NaN</td>\n",
       "      <td>NaN</td>\n",
       "      <td>NaN</td>\n",
       "      <td>NaN</td>\n",
       "      <td>NaN</td>\n",
       "      <td>NaN</td>\n",
       "      <td>NaN</td>\n",
       "      <td>NaN</td>\n",
       "      <td>NaN</td>\n",
       "      <td>NaN</td>\n",
       "      <td>NaN</td>\n",
       "      <td>NaN</td>\n",
       "      <td>NaN</td>\n",
       "      <td>NaN</td>\n",
       "      <td>NaN</td>\n",
       "      <td>NaN</td>\n",
       "      <td>NaN</td>\n",
       "      <td>NaN</td>\n",
       "      <td>NaN</td>\n",
       "      <td>NaN</td>\n",
       "      <td>0.0</td>\n",
       "      <td>0.0</td>\n",
       "      <td>NaN</td>\n",
       "      <td>NaN</td>\n",
       "      <td>NaN</td>\n",
       "      <td>NaN</td>\n",
       "      <td>NaN</td>\n",
       "      <td>NaN</td>\n",
       "      <td>NaN</td>\n",
       "      <td>NaN</td>\n",
       "      <td>NaN</td>\n",
       "      <td>NaN</td>\n",
       "      <td>NaN</td>\n",
       "      <td>NaN</td>\n",
       "      <td>NaN</td>\n",
       "      <td>NaN</td>\n",
       "      <td>NaN</td>\n",
       "      <td>NaN</td>\n",
       "      <td>NaN</td>\n",
       "      <td>NaN</td>\n",
       "      <td>NaN</td>\n",
       "      <td>NaN</td>\n",
       "      <td>NaN</td>\n",
       "      <td>NaN</td>\n",
       "      <td>NaN</td>\n",
       "      <td>NaN</td>\n",
       "      <td>NaN</td>\n",
       "      <td>0.000000</td>\n",
       "      <td>0.0</td>\n",
       "      <td>NaN</td>\n",
       "      <td>NaN</td>\n",
       "      <td>NaN</td>\n",
       "      <td>NaN</td>\n",
       "    </tr>\n",
       "    <tr>\n",
       "      <th>75%</th>\n",
       "      <td>8.377550e+05</td>\n",
       "      <td>1.047339e+06</td>\n",
       "      <td>15000.000000</td>\n",
       "      <td>15000.000000</td>\n",
       "      <td>14400.000000</td>\n",
       "      <td>430.780000</td>\n",
       "      <td>8.230000e+04</td>\n",
       "      <td>18.600000</td>\n",
       "      <td>0.000000</td>\n",
       "      <td>1.000000</td>\n",
       "      <td>52.000000</td>\n",
       "      <td>104.000000</td>\n",
       "      <td>12.000000</td>\n",
       "      <td>0.000000</td>\n",
       "      <td>17058.000000</td>\n",
       "      <td>29.000000</td>\n",
       "      <td>0.000000</td>\n",
       "      <td>0.000000</td>\n",
       "      <td>16534.433040</td>\n",
       "      <td>15798.810000</td>\n",
       "      <td>13653.260000</td>\n",
       "      <td>2833.400000</td>\n",
       "      <td>0.000000</td>\n",
       "      <td>0.000000</td>\n",
       "      <td>0.000000</td>\n",
       "      <td>3293.160000</td>\n",
       "      <td>0.0</td>\n",
       "      <td>NaN</td>\n",
       "      <td>1.0</td>\n",
       "      <td>NaN</td>\n",
       "      <td>NaN</td>\n",
       "      <td>NaN</td>\n",
       "      <td>0.0</td>\n",
       "      <td>NaN</td>\n",
       "      <td>NaN</td>\n",
       "      <td>NaN</td>\n",
       "      <td>NaN</td>\n",
       "      <td>NaN</td>\n",
       "      <td>NaN</td>\n",
       "      <td>NaN</td>\n",
       "      <td>NaN</td>\n",
       "      <td>NaN</td>\n",
       "      <td>NaN</td>\n",
       "      <td>NaN</td>\n",
       "      <td>NaN</td>\n",
       "      <td>NaN</td>\n",
       "      <td>NaN</td>\n",
       "      <td>NaN</td>\n",
       "      <td>NaN</td>\n",
       "      <td>NaN</td>\n",
       "      <td>NaN</td>\n",
       "      <td>NaN</td>\n",
       "      <td>NaN</td>\n",
       "      <td>NaN</td>\n",
       "      <td>0.0</td>\n",
       "      <td>0.0</td>\n",
       "      <td>NaN</td>\n",
       "      <td>NaN</td>\n",
       "      <td>NaN</td>\n",
       "      <td>NaN</td>\n",
       "      <td>NaN</td>\n",
       "      <td>NaN</td>\n",
       "      <td>NaN</td>\n",
       "      <td>NaN</td>\n",
       "      <td>NaN</td>\n",
       "      <td>NaN</td>\n",
       "      <td>NaN</td>\n",
       "      <td>NaN</td>\n",
       "      <td>NaN</td>\n",
       "      <td>NaN</td>\n",
       "      <td>NaN</td>\n",
       "      <td>NaN</td>\n",
       "      <td>NaN</td>\n",
       "      <td>NaN</td>\n",
       "      <td>NaN</td>\n",
       "      <td>NaN</td>\n",
       "      <td>NaN</td>\n",
       "      <td>NaN</td>\n",
       "      <td>NaN</td>\n",
       "      <td>NaN</td>\n",
       "      <td>NaN</td>\n",
       "      <td>0.000000</td>\n",
       "      <td>0.0</td>\n",
       "      <td>NaN</td>\n",
       "      <td>NaN</td>\n",
       "      <td>NaN</td>\n",
       "      <td>NaN</td>\n",
       "    </tr>\n",
       "    <tr>\n",
       "      <th>max</th>\n",
       "      <td>1.077501e+06</td>\n",
       "      <td>1.314167e+06</td>\n",
       "      <td>35000.000000</td>\n",
       "      <td>35000.000000</td>\n",
       "      <td>35000.000000</td>\n",
       "      <td>1305.190000</td>\n",
       "      <td>6.000000e+06</td>\n",
       "      <td>29.990000</td>\n",
       "      <td>11.000000</td>\n",
       "      <td>8.000000</td>\n",
       "      <td>120.000000</td>\n",
       "      <td>129.000000</td>\n",
       "      <td>44.000000</td>\n",
       "      <td>4.000000</td>\n",
       "      <td>149588.000000</td>\n",
       "      <td>90.000000</td>\n",
       "      <td>6311.470000</td>\n",
       "      <td>6307.370000</td>\n",
       "      <td>58563.679930</td>\n",
       "      <td>58563.680000</td>\n",
       "      <td>35000.020000</td>\n",
       "      <td>23563.680000</td>\n",
       "      <td>180.200000</td>\n",
       "      <td>29623.350000</td>\n",
       "      <td>7002.190000</td>\n",
       "      <td>36115.200000</td>\n",
       "      <td>0.0</td>\n",
       "      <td>NaN</td>\n",
       "      <td>1.0</td>\n",
       "      <td>NaN</td>\n",
       "      <td>NaN</td>\n",
       "      <td>NaN</td>\n",
       "      <td>0.0</td>\n",
       "      <td>NaN</td>\n",
       "      <td>NaN</td>\n",
       "      <td>NaN</td>\n",
       "      <td>NaN</td>\n",
       "      <td>NaN</td>\n",
       "      <td>NaN</td>\n",
       "      <td>NaN</td>\n",
       "      <td>NaN</td>\n",
       "      <td>NaN</td>\n",
       "      <td>NaN</td>\n",
       "      <td>NaN</td>\n",
       "      <td>NaN</td>\n",
       "      <td>NaN</td>\n",
       "      <td>NaN</td>\n",
       "      <td>NaN</td>\n",
       "      <td>NaN</td>\n",
       "      <td>NaN</td>\n",
       "      <td>NaN</td>\n",
       "      <td>NaN</td>\n",
       "      <td>NaN</td>\n",
       "      <td>NaN</td>\n",
       "      <td>0.0</td>\n",
       "      <td>0.0</td>\n",
       "      <td>NaN</td>\n",
       "      <td>NaN</td>\n",
       "      <td>NaN</td>\n",
       "      <td>NaN</td>\n",
       "      <td>NaN</td>\n",
       "      <td>NaN</td>\n",
       "      <td>NaN</td>\n",
       "      <td>NaN</td>\n",
       "      <td>NaN</td>\n",
       "      <td>NaN</td>\n",
       "      <td>NaN</td>\n",
       "      <td>NaN</td>\n",
       "      <td>NaN</td>\n",
       "      <td>NaN</td>\n",
       "      <td>NaN</td>\n",
       "      <td>NaN</td>\n",
       "      <td>NaN</td>\n",
       "      <td>NaN</td>\n",
       "      <td>NaN</td>\n",
       "      <td>NaN</td>\n",
       "      <td>NaN</td>\n",
       "      <td>NaN</td>\n",
       "      <td>NaN</td>\n",
       "      <td>NaN</td>\n",
       "      <td>NaN</td>\n",
       "      <td>2.000000</td>\n",
       "      <td>0.0</td>\n",
       "      <td>NaN</td>\n",
       "      <td>NaN</td>\n",
       "      <td>NaN</td>\n",
       "      <td>NaN</td>\n",
       "    </tr>\n",
       "  </tbody>\n",
       "</table>\n",
       "</div>"
      ],
      "text/plain": [
       "                 id     member_id     loan_amnt   funded_amnt  \\\n",
       "count  3.971700e+04  3.971700e+04  39717.000000  39717.000000   \n",
       "mean   6.831319e+05  8.504636e+05  11219.443815  10947.713196   \n",
       "std    2.106941e+05  2.656783e+05   7456.670694   7187.238670   \n",
       "min    5.473400e+04  7.069900e+04    500.000000    500.000000   \n",
       "25%    5.162210e+05  6.667800e+05   5500.000000   5400.000000   \n",
       "50%    6.656650e+05  8.508120e+05  10000.000000   9600.000000   \n",
       "75%    8.377550e+05  1.047339e+06  15000.000000  15000.000000   \n",
       "max    1.077501e+06  1.314167e+06  35000.000000  35000.000000   \n",
       "\n",
       "       funded_amnt_inv   installment    annual_inc           dti  \\\n",
       "count     39717.000000  39717.000000  3.971700e+04  39717.000000   \n",
       "mean      10397.448868    324.561922  6.896893e+04     13.315130   \n",
       "std        7128.450439    208.874874  6.379377e+04      6.678594   \n",
       "min           0.000000     15.690000  4.000000e+03      0.000000   \n",
       "25%        5000.000000    167.020000  4.040400e+04      8.170000   \n",
       "50%        8975.000000    280.220000  5.900000e+04     13.400000   \n",
       "75%       14400.000000    430.780000  8.230000e+04     18.600000   \n",
       "max       35000.000000   1305.190000  6.000000e+06     29.990000   \n",
       "\n",
       "        delinq_2yrs  inq_last_6mths  mths_since_last_delinq  \\\n",
       "count  39717.000000    39717.000000            14035.000000   \n",
       "mean       0.146512        0.869200               35.900962   \n",
       "std        0.491812        1.070219               22.020060   \n",
       "min        0.000000        0.000000                0.000000   \n",
       "25%        0.000000        0.000000               18.000000   \n",
       "50%        0.000000        1.000000               34.000000   \n",
       "75%        0.000000        1.000000               52.000000   \n",
       "max       11.000000        8.000000              120.000000   \n",
       "\n",
       "       mths_since_last_record      open_acc       pub_rec      revol_bal  \\\n",
       "count             2786.000000  39717.000000  39717.000000   39717.000000   \n",
       "mean                69.698134      9.294408      0.055065   13382.528086   \n",
       "std                 43.822529      4.400282      0.237200   15885.016641   \n",
       "min                  0.000000      2.000000      0.000000       0.000000   \n",
       "25%                 22.000000      6.000000      0.000000    3703.000000   \n",
       "50%                 90.000000      9.000000      0.000000    8850.000000   \n",
       "75%                104.000000     12.000000      0.000000   17058.000000   \n",
       "max                129.000000     44.000000      4.000000  149588.000000   \n",
       "\n",
       "          total_acc     out_prncp  out_prncp_inv   total_pymnt  \\\n",
       "count  39717.000000  39717.000000   39717.000000  39717.000000   \n",
       "mean      22.088828     51.227887      50.989768  12153.596544   \n",
       "std       11.401709    375.172839     373.824457   9042.040766   \n",
       "min        2.000000      0.000000       0.000000      0.000000   \n",
       "25%       13.000000      0.000000       0.000000   5576.930000   \n",
       "50%       20.000000      0.000000       0.000000   9899.640319   \n",
       "75%       29.000000      0.000000       0.000000  16534.433040   \n",
       "max       90.000000   6311.470000    6307.370000  58563.679930   \n",
       "\n",
       "       total_pymnt_inv  total_rec_prncp  total_rec_int  total_rec_late_fee  \\\n",
       "count     39717.000000     39717.000000   39717.000000        39717.000000   \n",
       "mean      11567.149118      9793.348813    2263.663172            1.363015   \n",
       "std        8942.672613      7065.522127    2608.111964            7.289979   \n",
       "min           0.000000         0.000000       0.000000            0.000000   \n",
       "25%        5112.310000      4600.000000     662.180000            0.000000   \n",
       "50%        9287.150000      8000.000000    1348.910000            0.000000   \n",
       "75%       15798.810000     13653.260000    2833.400000            0.000000   \n",
       "max       58563.680000     35000.020000   23563.680000          180.200000   \n",
       "\n",
       "         recoveries  collection_recovery_fee  last_pymnt_amnt  \\\n",
       "count  39717.000000             39717.000000     39717.000000   \n",
       "mean      95.221624                12.406112      2678.826162   \n",
       "std      688.744771               148.671593      4447.136012   \n",
       "min        0.000000                 0.000000         0.000000   \n",
       "25%        0.000000                 0.000000       218.680000   \n",
       "50%        0.000000                 0.000000       546.140000   \n",
       "75%        0.000000                 0.000000      3293.160000   \n",
       "max    29623.350000              7002.190000     36115.200000   \n",
       "\n",
       "       collections_12_mths_ex_med  mths_since_last_major_derog  policy_code  \\\n",
       "count                     39661.0                          0.0      39717.0   \n",
       "mean                          0.0                          NaN          1.0   \n",
       "std                           0.0                          NaN          0.0   \n",
       "min                           0.0                          NaN          1.0   \n",
       "25%                           0.0                          NaN          1.0   \n",
       "50%                           0.0                          NaN          1.0   \n",
       "75%                           0.0                          NaN          1.0   \n",
       "max                           0.0                          NaN          1.0   \n",
       "\n",
       "       annual_inc_joint  dti_joint  verification_status_joint  acc_now_delinq  \\\n",
       "count               0.0        0.0                        0.0         39717.0   \n",
       "mean                NaN        NaN                        NaN             0.0   \n",
       "std                 NaN        NaN                        NaN             0.0   \n",
       "min                 NaN        NaN                        NaN             0.0   \n",
       "25%                 NaN        NaN                        NaN             0.0   \n",
       "50%                 NaN        NaN                        NaN             0.0   \n",
       "75%                 NaN        NaN                        NaN             0.0   \n",
       "max                 NaN        NaN                        NaN             0.0   \n",
       "\n",
       "       tot_coll_amt  tot_cur_bal  open_acc_6m  open_il_6m  open_il_12m  \\\n",
       "count           0.0          0.0          0.0         0.0          0.0   \n",
       "mean            NaN          NaN          NaN         NaN          NaN   \n",
       "std             NaN          NaN          NaN         NaN          NaN   \n",
       "min             NaN          NaN          NaN         NaN          NaN   \n",
       "25%             NaN          NaN          NaN         NaN          NaN   \n",
       "50%             NaN          NaN          NaN         NaN          NaN   \n",
       "75%             NaN          NaN          NaN         NaN          NaN   \n",
       "max             NaN          NaN          NaN         NaN          NaN   \n",
       "\n",
       "       open_il_24m  mths_since_rcnt_il  total_bal_il  il_util  open_rv_12m  \\\n",
       "count          0.0                 0.0           0.0      0.0          0.0   \n",
       "mean           NaN                 NaN           NaN      NaN          NaN   \n",
       "std            NaN                 NaN           NaN      NaN          NaN   \n",
       "min            NaN                 NaN           NaN      NaN          NaN   \n",
       "25%            NaN                 NaN           NaN      NaN          NaN   \n",
       "50%            NaN                 NaN           NaN      NaN          NaN   \n",
       "75%            NaN                 NaN           NaN      NaN          NaN   \n",
       "max            NaN                 NaN           NaN      NaN          NaN   \n",
       "\n",
       "       open_rv_24m  max_bal_bc  all_util  total_rev_hi_lim  inq_fi  \\\n",
       "count          0.0         0.0       0.0               0.0     0.0   \n",
       "mean           NaN         NaN       NaN               NaN     NaN   \n",
       "std            NaN         NaN       NaN               NaN     NaN   \n",
       "min            NaN         NaN       NaN               NaN     NaN   \n",
       "25%            NaN         NaN       NaN               NaN     NaN   \n",
       "50%            NaN         NaN       NaN               NaN     NaN   \n",
       "75%            NaN         NaN       NaN               NaN     NaN   \n",
       "max            NaN         NaN       NaN               NaN     NaN   \n",
       "\n",
       "       total_cu_tl  inq_last_12m  acc_open_past_24mths  avg_cur_bal  \\\n",
       "count          0.0           0.0                   0.0          0.0   \n",
       "mean           NaN           NaN                   NaN          NaN   \n",
       "std            NaN           NaN                   NaN          NaN   \n",
       "min            NaN           NaN                   NaN          NaN   \n",
       "25%            NaN           NaN                   NaN          NaN   \n",
       "50%            NaN           NaN                   NaN          NaN   \n",
       "75%            NaN           NaN                   NaN          NaN   \n",
       "max            NaN           NaN                   NaN          NaN   \n",
       "\n",
       "       bc_open_to_buy  bc_util  chargeoff_within_12_mths  delinq_amnt  \\\n",
       "count             0.0      0.0                   39661.0      39717.0   \n",
       "mean              NaN      NaN                       0.0          0.0   \n",
       "std               NaN      NaN                       0.0          0.0   \n",
       "min               NaN      NaN                       0.0          0.0   \n",
       "25%               NaN      NaN                       0.0          0.0   \n",
       "50%               NaN      NaN                       0.0          0.0   \n",
       "75%               NaN      NaN                       0.0          0.0   \n",
       "max               NaN      NaN                       0.0          0.0   \n",
       "\n",
       "       mo_sin_old_il_acct  mo_sin_old_rev_tl_op  mo_sin_rcnt_rev_tl_op  \\\n",
       "count                 0.0                   0.0                    0.0   \n",
       "mean                  NaN                   NaN                    NaN   \n",
       "std                   NaN                   NaN                    NaN   \n",
       "min                   NaN                   NaN                    NaN   \n",
       "25%                   NaN                   NaN                    NaN   \n",
       "50%                   NaN                   NaN                    NaN   \n",
       "75%                   NaN                   NaN                    NaN   \n",
       "max                   NaN                   NaN                    NaN   \n",
       "\n",
       "       mo_sin_rcnt_tl  mort_acc  mths_since_recent_bc  \\\n",
       "count             0.0       0.0                   0.0   \n",
       "mean              NaN       NaN                   NaN   \n",
       "std               NaN       NaN                   NaN   \n",
       "min               NaN       NaN                   NaN   \n",
       "25%               NaN       NaN                   NaN   \n",
       "50%               NaN       NaN                   NaN   \n",
       "75%               NaN       NaN                   NaN   \n",
       "max               NaN       NaN                   NaN   \n",
       "\n",
       "       mths_since_recent_bc_dlq  mths_since_recent_inq  \\\n",
       "count                       0.0                    0.0   \n",
       "mean                        NaN                    NaN   \n",
       "std                         NaN                    NaN   \n",
       "min                         NaN                    NaN   \n",
       "25%                         NaN                    NaN   \n",
       "50%                         NaN                    NaN   \n",
       "75%                         NaN                    NaN   \n",
       "max                         NaN                    NaN   \n",
       "\n",
       "       mths_since_recent_revol_delinq  num_accts_ever_120_pd  num_actv_bc_tl  \\\n",
       "count                             0.0                    0.0             0.0   \n",
       "mean                              NaN                    NaN             NaN   \n",
       "std                               NaN                    NaN             NaN   \n",
       "min                               NaN                    NaN             NaN   \n",
       "25%                               NaN                    NaN             NaN   \n",
       "50%                               NaN                    NaN             NaN   \n",
       "75%                               NaN                    NaN             NaN   \n",
       "max                               NaN                    NaN             NaN   \n",
       "\n",
       "       num_actv_rev_tl  num_bc_sats  num_bc_tl  num_il_tl  num_op_rev_tl  \\\n",
       "count              0.0          0.0        0.0        0.0            0.0   \n",
       "mean               NaN          NaN        NaN        NaN            NaN   \n",
       "std                NaN          NaN        NaN        NaN            NaN   \n",
       "min                NaN          NaN        NaN        NaN            NaN   \n",
       "25%                NaN          NaN        NaN        NaN            NaN   \n",
       "50%                NaN          NaN        NaN        NaN            NaN   \n",
       "75%                NaN          NaN        NaN        NaN            NaN   \n",
       "max                NaN          NaN        NaN        NaN            NaN   \n",
       "\n",
       "       num_rev_accts  num_rev_tl_bal_gt_0  num_sats  num_tl_120dpd_2m  \\\n",
       "count            0.0                  0.0       0.0               0.0   \n",
       "mean             NaN                  NaN       NaN               NaN   \n",
       "std              NaN                  NaN       NaN               NaN   \n",
       "min              NaN                  NaN       NaN               NaN   \n",
       "25%              NaN                  NaN       NaN               NaN   \n",
       "50%              NaN                  NaN       NaN               NaN   \n",
       "75%              NaN                  NaN       NaN               NaN   \n",
       "max              NaN                  NaN       NaN               NaN   \n",
       "\n",
       "       num_tl_30dpd  num_tl_90g_dpd_24m  num_tl_op_past_12m  pct_tl_nvr_dlq  \\\n",
       "count           0.0                 0.0                 0.0             0.0   \n",
       "mean            NaN                 NaN                 NaN             NaN   \n",
       "std             NaN                 NaN                 NaN             NaN   \n",
       "min             NaN                 NaN                 NaN             NaN   \n",
       "25%             NaN                 NaN                 NaN             NaN   \n",
       "50%             NaN                 NaN                 NaN             NaN   \n",
       "75%             NaN                 NaN                 NaN             NaN   \n",
       "max             NaN                 NaN                 NaN             NaN   \n",
       "\n",
       "       percent_bc_gt_75  pub_rec_bankruptcies  tax_liens  tot_hi_cred_lim  \\\n",
       "count               0.0          39020.000000    39678.0              0.0   \n",
       "mean                NaN              0.043260        0.0              NaN   \n",
       "std                 NaN              0.204324        0.0              NaN   \n",
       "min                 NaN              0.000000        0.0              NaN   \n",
       "25%                 NaN              0.000000        0.0              NaN   \n",
       "50%                 NaN              0.000000        0.0              NaN   \n",
       "75%                 NaN              0.000000        0.0              NaN   \n",
       "max                 NaN              2.000000        0.0              NaN   \n",
       "\n",
       "       total_bal_ex_mort  total_bc_limit  total_il_high_credit_limit  \n",
       "count                0.0             0.0                         0.0  \n",
       "mean                 NaN             NaN                         NaN  \n",
       "std                  NaN             NaN                         NaN  \n",
       "min                  NaN             NaN                         NaN  \n",
       "25%                  NaN             NaN                         NaN  \n",
       "50%                  NaN             NaN                         NaN  \n",
       "75%                  NaN             NaN                         NaN  \n",
       "max                  NaN             NaN                         NaN  "
      ]
     },
     "execution_count": 6,
     "metadata": {},
     "output_type": "execute_result"
    }
   ],
   "source": [
    "df.describe()"
   ]
  },
  {
   "cell_type": "code",
   "execution_count": 7,
   "metadata": {
    "cell_id": "00011-aa812215-c3cc-422c-abd9-de80d75c7599",
    "colab": {
     "base_uri": "https://localhost:8080/"
    },
    "deepnote_cell_type": "code",
    "deepnote_to_be_reexecuted": false,
    "executionInfo": {
     "elapsed": 4514,
     "status": "ok",
     "timestamp": 1610947544176,
     "user": {
      "displayName": "Surajit Das",
      "photoUrl": "",
      "userId": "12795377520497298003"
     },
     "user_tz": -330
    },
    "execution_millis": 0,
    "execution_start": 1610905379082,
    "id": "lYdr1Og6iJdr",
    "outputId": "e63e241d-c0e2-45c5-858f-e57259ea7e16",
    "source_hash": "b1b1a3d5"
   },
   "outputs": [
    {
     "data": {
      "text/plain": [
       "Index(['acc_now_delinq', 'acc_open_past_24mths', 'addr_state', 'all_util',\n",
       "       'annual_inc', 'annual_inc_joint', 'application_type', 'avg_cur_bal',\n",
       "       'bc_open_to_buy', 'bc_util',\n",
       "       ...\n",
       "       'total_pymnt', 'total_pymnt_inv', 'total_rec_int', 'total_rec_late_fee',\n",
       "       'total_rec_prncp', 'total_rev_hi_lim', 'url', 'verification_status',\n",
       "       'verification_status_joint', 'zip_code'],\n",
       "      dtype='object', length=111)"
      ]
     },
     "execution_count": 7,
     "metadata": {},
     "output_type": "execute_result"
    }
   ],
   "source": [
    "df.columns.sort_values()"
   ]
  },
  {
   "cell_type": "markdown",
   "metadata": {
    "cell_id": "00012-539f6497-6f3b-472d-9e87-861ba59877ae",
    "deepnote_cell_type": "markdown",
    "id": "s3db1I4ViJdr"
   },
   "source": [
    "## <a id=\"04\" style=\"color:Blue; font-size: 24px;\">Handling Missing Value -- Cleaning -- Manipulation</a>"
   ]
  },
  {
   "cell_type": "markdown",
   "metadata": {
    "cell_id": "00013-6f7b254d-11fd-4158-a482-ef049eebe994",
    "deepnote_cell_type": "markdown",
    "id": "LXoV8sQ8iJdr"
   },
   "source": [
    "### Dropping all columns have missing value 90% or greater"
   ]
  },
  {
   "cell_type": "code",
   "execution_count": 8,
   "metadata": {
    "cell_id": "00014-985d3e1b-839d-48f8-9618-2e8f1b403585",
    "colab": {
     "base_uri": "https://localhost:8080/"
    },
    "deepnote_cell_type": "code",
    "deepnote_to_be_reexecuted": false,
    "executionInfo": {
     "elapsed": 5767,
     "status": "ok",
     "timestamp": 1610947545435,
     "user": {
      "displayName": "Surajit Das",
      "photoUrl": "",
      "userId": "12795377520497298003"
     },
     "user_tz": -330
    },
    "execution_millis": 1098,
    "execution_start": 1610905379090,
    "id": "wKpa9ed3iJds",
    "outputId": "1833fbb4-77ca-453a-d235-46e2eefc7a28",
    "source_hash": "9731738d"
   },
   "outputs": [
    {
     "name": "stdout",
     "output_type": "stream",
     "text": [
      "mths_since_last_record\n",
      "next_pymnt_d\n",
      "mths_since_last_major_derog\n",
      "annual_inc_joint\n",
      "dti_joint\n",
      "verification_status_joint\n",
      "tot_coll_amt\n",
      "tot_cur_bal\n",
      "open_acc_6m\n",
      "open_il_6m\n",
      "open_il_12m\n",
      "open_il_24m\n",
      "mths_since_rcnt_il\n",
      "total_bal_il\n",
      "il_util\n",
      "open_rv_12m\n",
      "open_rv_24m\n",
      "max_bal_bc\n",
      "all_util\n",
      "total_rev_hi_lim\n",
      "inq_fi\n",
      "total_cu_tl\n",
      "inq_last_12m\n",
      "acc_open_past_24mths\n",
      "avg_cur_bal\n",
      "bc_open_to_buy\n",
      "bc_util\n",
      "mo_sin_old_il_acct\n",
      "mo_sin_old_rev_tl_op\n",
      "mo_sin_rcnt_rev_tl_op\n",
      "mo_sin_rcnt_tl\n",
      "mort_acc\n",
      "mths_since_recent_bc\n",
      "mths_since_recent_bc_dlq\n",
      "mths_since_recent_inq\n",
      "mths_since_recent_revol_delinq\n",
      "num_accts_ever_120_pd\n",
      "num_actv_bc_tl\n",
      "num_actv_rev_tl\n",
      "num_bc_sats\n",
      "num_bc_tl\n",
      "num_il_tl\n",
      "num_op_rev_tl\n",
      "num_rev_accts\n",
      "num_rev_tl_bal_gt_0\n",
      "num_sats\n",
      "num_tl_120dpd_2m\n",
      "num_tl_30dpd\n",
      "num_tl_90g_dpd_24m\n",
      "num_tl_op_past_12m\n",
      "pct_tl_nvr_dlq\n",
      "percent_bc_gt_75\n",
      "tot_hi_cred_lim\n",
      "total_bal_ex_mort\n",
      "total_bc_limit\n",
      "total_il_high_credit_limit\n",
      ": Columns Removed\n"
     ]
    }
   ],
   "source": [
    "drop_null_col(df,90)"
   ]
  },
  {
   "cell_type": "code",
   "execution_count": 9,
   "metadata": {
    "cell_id": "00015-f9c1f926-dcfb-4bfb-b81c-8862c4816562",
    "colab": {
     "base_uri": "https://localhost:8080/",
     "height": 1000
    },
    "deepnote_cell_type": "code",
    "deepnote_to_be_reexecuted": false,
    "executionInfo": {
     "elapsed": 5760,
     "status": "ok",
     "timestamp": 1610947545436,
     "user": {
      "displayName": "Surajit Das",
      "photoUrl": "",
      "userId": "12795377520497298003"
     },
     "user_tz": -330
    },
    "execution_millis": 554,
    "execution_start": 1610905380256,
    "id": "oLwFSGACiJds",
    "outputId": "30c77a16-e0de-4f31-bca3-6c506ce43e96",
    "source_hash": "e5cd0a1b"
   },
   "outputs": [
    {
     "name": "stdout",
     "output_type": "stream",
     "text": [
      "loan Dim: (39717, 55)\n"
     ]
    },
    {
     "data": {
      "text/html": [
       "<div>\n",
       "<style scoped>\n",
       "    .dataframe tbody tr th:only-of-type {\n",
       "        vertical-align: middle;\n",
       "    }\n",
       "\n",
       "    .dataframe tbody tr th {\n",
       "        vertical-align: top;\n",
       "    }\n",
       "\n",
       "    .dataframe thead th {\n",
       "        text-align: right;\n",
       "    }\n",
       "</style>\n",
       "<table border=\"1\" class=\"dataframe\">\n",
       "  <thead>\n",
       "    <tr style=\"text-align: right;\">\n",
       "      <th></th>\n",
       "      <th>dtypes</th>\n",
       "      <th>Missing</th>\n",
       "      <th>Missing%</th>\n",
       "      <th>Uniques</th>\n",
       "      <th>Description</th>\n",
       "      <th>Unnamed: 2</th>\n",
       "      <th>Unnamed: 3</th>\n",
       "      <th>Unnamed: 4</th>\n",
       "      <th>Unnamed: 5</th>\n",
       "      <th>Unnamed: 6</th>\n",
       "      <th>Unnamed: 7</th>\n",
       "      <th>Unnamed: 8</th>\n",
       "      <th>Unnamed: 9</th>\n",
       "      <th>Unnamed: 10</th>\n",
       "    </tr>\n",
       "  </thead>\n",
       "  <tbody>\n",
       "    <tr>\n",
       "      <th>chargeoff_within_12_mths</th>\n",
       "      <td>float64</td>\n",
       "      <td>56</td>\n",
       "      <td>0.140998</td>\n",
       "      <td>1</td>\n",
       "      <td>Number of charge-offs within 12 months</td>\n",
       "      <td>NaN</td>\n",
       "      <td>NaN</td>\n",
       "      <td>NaN</td>\n",
       "      <td>NaN</td>\n",
       "      <td>NaN</td>\n",
       "      <td>NaN</td>\n",
       "      <td>NaN</td>\n",
       "      <td>NaN</td>\n",
       "      <td>NaN</td>\n",
       "    </tr>\n",
       "    <tr>\n",
       "      <th>collections_12_mths_ex_med</th>\n",
       "      <td>float64</td>\n",
       "      <td>56</td>\n",
       "      <td>0.140998</td>\n",
       "      <td>1</td>\n",
       "      <td>Number of collections in 12 months excluding medical collections</td>\n",
       "      <td>NaN</td>\n",
       "      <td>NaN</td>\n",
       "      <td>NaN</td>\n",
       "      <td>NaN</td>\n",
       "      <td>NaN</td>\n",
       "      <td>NaN</td>\n",
       "      <td>NaN</td>\n",
       "      <td>NaN</td>\n",
       "      <td>NaN</td>\n",
       "    </tr>\n",
       "    <tr>\n",
       "      <th>desc</th>\n",
       "      <td>object</td>\n",
       "      <td>12940</td>\n",
       "      <td>32.580507</td>\n",
       "      <td>26527</td>\n",
       "      <td>Loan description provided by the borrower</td>\n",
       "      <td>NaN</td>\n",
       "      <td>NaN</td>\n",
       "      <td>NaN</td>\n",
       "      <td>NaN</td>\n",
       "      <td>NaN</td>\n",
       "      <td>NaN</td>\n",
       "      <td>NaN</td>\n",
       "      <td>NaN</td>\n",
       "      <td>NaN</td>\n",
       "    </tr>\n",
       "    <tr>\n",
       "      <th>emp_length</th>\n",
       "      <td>object</td>\n",
       "      <td>1075</td>\n",
       "      <td>2.706650</td>\n",
       "      <td>11</td>\n",
       "      <td>Employment length in years. Possible values are between 0 and 10 where 0 means less than one year and 10 means ten or more years.</td>\n",
       "      <td>NaN</td>\n",
       "      <td>NaN</td>\n",
       "      <td>NaN</td>\n",
       "      <td>NaN</td>\n",
       "      <td>NaN</td>\n",
       "      <td>NaN</td>\n",
       "      <td>NaN</td>\n",
       "      <td>NaN</td>\n",
       "      <td>NaN</td>\n",
       "    </tr>\n",
       "    <tr>\n",
       "      <th>emp_title</th>\n",
       "      <td>object</td>\n",
       "      <td>2459</td>\n",
       "      <td>6.191303</td>\n",
       "      <td>28820</td>\n",
       "      <td>The job title supplied by the Borrower when applying for the loan.*</td>\n",
       "      <td>NaN</td>\n",
       "      <td>NaN</td>\n",
       "      <td>NaN</td>\n",
       "      <td>NaN</td>\n",
       "      <td>NaN</td>\n",
       "      <td>NaN</td>\n",
       "      <td>NaN</td>\n",
       "      <td>NaN</td>\n",
       "      <td>NaN</td>\n",
       "    </tr>\n",
       "    <tr>\n",
       "      <th>last_credit_pull_d</th>\n",
       "      <td>object</td>\n",
       "      <td>2</td>\n",
       "      <td>0.005036</td>\n",
       "      <td>106</td>\n",
       "      <td>The most recent month LC pulled credit for this loan</td>\n",
       "      <td>NaN</td>\n",
       "      <td>NaN</td>\n",
       "      <td>NaN</td>\n",
       "      <td>NaN</td>\n",
       "      <td>NaN</td>\n",
       "      <td>NaN</td>\n",
       "      <td>NaN</td>\n",
       "      <td>NaN</td>\n",
       "      <td>NaN</td>\n",
       "    </tr>\n",
       "    <tr>\n",
       "      <th>last_pymnt_d</th>\n",
       "      <td>object</td>\n",
       "      <td>71</td>\n",
       "      <td>0.178765</td>\n",
       "      <td>101</td>\n",
       "      <td>Last month payment was received</td>\n",
       "      <td>NaN</td>\n",
       "      <td>NaN</td>\n",
       "      <td>NaN</td>\n",
       "      <td>NaN</td>\n",
       "      <td>NaN</td>\n",
       "      <td>NaN</td>\n",
       "      <td>NaN</td>\n",
       "      <td>NaN</td>\n",
       "      <td>NaN</td>\n",
       "    </tr>\n",
       "    <tr>\n",
       "      <th>mths_since_last_delinq</th>\n",
       "      <td>float64</td>\n",
       "      <td>25682</td>\n",
       "      <td>64.662487</td>\n",
       "      <td>95</td>\n",
       "      <td>The number of months since the borrower's last delinquency.</td>\n",
       "      <td>NaN</td>\n",
       "      <td>NaN</td>\n",
       "      <td>NaN</td>\n",
       "      <td>NaN</td>\n",
       "      <td>NaN</td>\n",
       "      <td>NaN</td>\n",
       "      <td>NaN</td>\n",
       "      <td>NaN</td>\n",
       "      <td>NaN</td>\n",
       "    </tr>\n",
       "    <tr>\n",
       "      <th>pub_rec_bankruptcies</th>\n",
       "      <td>float64</td>\n",
       "      <td>697</td>\n",
       "      <td>1.754916</td>\n",
       "      <td>3</td>\n",
       "      <td>Number of public record bankruptcies</td>\n",
       "      <td>NaN</td>\n",
       "      <td>NaN</td>\n",
       "      <td>NaN</td>\n",
       "      <td>NaN</td>\n",
       "      <td>NaN</td>\n",
       "      <td>NaN</td>\n",
       "      <td>NaN</td>\n",
       "      <td>NaN</td>\n",
       "      <td>NaN</td>\n",
       "    </tr>\n",
       "    <tr>\n",
       "      <th>revol_util</th>\n",
       "      <td>object</td>\n",
       "      <td>50</td>\n",
       "      <td>0.125891</td>\n",
       "      <td>1089</td>\n",
       "      <td>Revolving line utilization rate, or the amount of credit the borrower is using relative to all available revolving credit.</td>\n",
       "      <td>NaN</td>\n",
       "      <td>NaN</td>\n",
       "      <td>NaN</td>\n",
       "      <td>NaN</td>\n",
       "      <td>NaN</td>\n",
       "      <td>NaN</td>\n",
       "      <td>NaN</td>\n",
       "      <td>NaN</td>\n",
       "      <td>NaN</td>\n",
       "    </tr>\n",
       "    <tr>\n",
       "      <th>tax_liens</th>\n",
       "      <td>float64</td>\n",
       "      <td>39</td>\n",
       "      <td>0.098195</td>\n",
       "      <td>1</td>\n",
       "      <td>Number of tax liens</td>\n",
       "      <td>NaN</td>\n",
       "      <td>NaN</td>\n",
       "      <td>NaN</td>\n",
       "      <td>NaN</td>\n",
       "      <td>NaN</td>\n",
       "      <td>NaN</td>\n",
       "      <td>NaN</td>\n",
       "      <td>NaN</td>\n",
       "      <td>NaN</td>\n",
       "    </tr>\n",
       "    <tr>\n",
       "      <th>title</th>\n",
       "      <td>object</td>\n",
       "      <td>11</td>\n",
       "      <td>0.027696</td>\n",
       "      <td>19615</td>\n",
       "      <td>The loan title provided by the borrower</td>\n",
       "      <td>NaN</td>\n",
       "      <td>NaN</td>\n",
       "      <td>NaN</td>\n",
       "      <td>NaN</td>\n",
       "      <td>NaN</td>\n",
       "      <td>NaN</td>\n",
       "      <td>NaN</td>\n",
       "      <td>NaN</td>\n",
       "      <td>NaN</td>\n",
       "    </tr>\n",
       "  </tbody>\n",
       "</table>\n",
       "</div>"
      ],
      "text/plain": [
       "                             dtypes  Missing   Missing%  Uniques  \\\n",
       "chargeoff_within_12_mths    float64       56   0.140998        1   \n",
       "collections_12_mths_ex_med  float64       56   0.140998        1   \n",
       "desc                         object    12940  32.580507    26527   \n",
       "emp_length                   object     1075   2.706650       11   \n",
       "emp_title                    object     2459   6.191303    28820   \n",
       "last_credit_pull_d           object        2   0.005036      106   \n",
       "last_pymnt_d                 object       71   0.178765      101   \n",
       "mths_since_last_delinq      float64    25682  64.662487       95   \n",
       "pub_rec_bankruptcies        float64      697   1.754916        3   \n",
       "revol_util                   object       50   0.125891     1089   \n",
       "tax_liens                   float64       39   0.098195        1   \n",
       "title                        object       11   0.027696    19615   \n",
       "\n",
       "                                                                                                                                                   Description  \\\n",
       "chargeoff_within_12_mths                                                                                                Number of charge-offs within 12 months   \n",
       "collections_12_mths_ex_med                                                                    Number of collections in 12 months excluding medical collections   \n",
       "desc                                                                                                                 Loan description provided by the borrower   \n",
       "emp_length                  Employment length in years. Possible values are between 0 and 10 where 0 means less than one year and 10 means ten or more years.    \n",
       "emp_title                                                                                  The job title supplied by the Borrower when applying for the loan.*   \n",
       "last_credit_pull_d                                                                                        The most recent month LC pulled credit for this loan   \n",
       "last_pymnt_d                                                                                                                   Last month payment was received   \n",
       "mths_since_last_delinq                                                                             The number of months since the borrower's last delinquency.   \n",
       "pub_rec_bankruptcies                                                                                                      Number of public record bankruptcies   \n",
       "revol_util                          Revolving line utilization rate, or the amount of credit the borrower is using relative to all available revolving credit.   \n",
       "tax_liens                                                                                                                                  Number of tax liens   \n",
       "title                                                                                                                  The loan title provided by the borrower   \n",
       "\n",
       "                            Unnamed: 2  Unnamed: 3  Unnamed: 4  Unnamed: 5  \\\n",
       "chargeoff_within_12_mths           NaN         NaN         NaN         NaN   \n",
       "collections_12_mths_ex_med         NaN         NaN         NaN         NaN   \n",
       "desc                               NaN         NaN         NaN         NaN   \n",
       "emp_length                         NaN         NaN         NaN         NaN   \n",
       "emp_title                          NaN         NaN         NaN         NaN   \n",
       "last_credit_pull_d                 NaN         NaN         NaN         NaN   \n",
       "last_pymnt_d                       NaN         NaN         NaN         NaN   \n",
       "mths_since_last_delinq             NaN         NaN         NaN         NaN   \n",
       "pub_rec_bankruptcies               NaN         NaN         NaN         NaN   \n",
       "revol_util                         NaN         NaN         NaN         NaN   \n",
       "tax_liens                          NaN         NaN         NaN         NaN   \n",
       "title                              NaN         NaN         NaN         NaN   \n",
       "\n",
       "                            Unnamed: 6  Unnamed: 7  Unnamed: 8  Unnamed: 9  \\\n",
       "chargeoff_within_12_mths           NaN         NaN         NaN         NaN   \n",
       "collections_12_mths_ex_med         NaN         NaN         NaN         NaN   \n",
       "desc                               NaN         NaN         NaN         NaN   \n",
       "emp_length                         NaN         NaN         NaN         NaN   \n",
       "emp_title                          NaN         NaN         NaN         NaN   \n",
       "last_credit_pull_d                 NaN         NaN         NaN         NaN   \n",
       "last_pymnt_d                       NaN         NaN         NaN         NaN   \n",
       "mths_since_last_delinq             NaN         NaN         NaN         NaN   \n",
       "pub_rec_bankruptcies               NaN         NaN         NaN         NaN   \n",
       "revol_util                         NaN         NaN         NaN         NaN   \n",
       "tax_liens                          NaN         NaN         NaN         NaN   \n",
       "title                              NaN         NaN         NaN         NaN   \n",
       "\n",
       "                            Unnamed: 10  \n",
       "chargeoff_within_12_mths            NaN  \n",
       "collections_12_mths_ex_med          NaN  \n",
       "desc                                NaN  \n",
       "emp_length                          NaN  \n",
       "emp_title                           NaN  \n",
       "last_credit_pull_d                  NaN  \n",
       "last_pymnt_d                        NaN  \n",
       "mths_since_last_delinq              NaN  \n",
       "pub_rec_bankruptcies                NaN  \n",
       "revol_util                          NaN  \n",
       "tax_liens                           NaN  \n",
       "title                               NaN  "
      ]
     },
     "execution_count": 9,
     "metadata": {},
     "output_type": "execute_result"
    }
   ],
   "source": [
    "sdf=qck(df)\n",
    "sdf[(sdf['Missing']!=0)].sort_index().head(50)"
   ]
  },
  {
   "cell_type": "markdown",
   "metadata": {
    "cell_id": "00016-56f3a68c-fefc-4524-8a82-442020621fab",
    "deepnote_cell_type": "markdown",
    "id": "eSsPjyrpiJds"
   },
   "source": [
    "### Now for Analysis purpose the listed column is not much effective, also the have high ammount of missing value, so they can be dropped: Such Columns are\n",
    "\n",
    "***desc***: This will not impact our analysis and also we have another variable named purpose which tells about the categorey provided by borrower.\n",
    "\n",
    "***last_credit_pull_d:*** This columns is kind of be behavioural variable for customer which is applicable after disbursment of the loan. So this is not required for our analysis.\n",
    "\n",
    "***last_pymnt_d:*** This columns represents the behavioural variable for customer which is applicable after disbursment of the loan. So this is not required for our analysis.\n",
    "\n",
    "***mths_since_last_delinq*** This columns is not required for analysis.\n",
    "\n",
    "***revol_util*** This column is also comes into the picture once loan is disbursed.\n",
    "\n",
    "***revol_bal*** This column is also comes into the picture once loan is disbursed.\n",
    "\n",
    "***title*** This columns is not required for analysis.\n",
    "\n",
    "***tax_liens*** This columns is not required for analysis.\n",
    "\n",
    "***chargeoff_within_12_mths*** This columns represents the behavioural variable for customer which is applicable after disbursment of the loan. So this is not required for our analysis.\n",
    "\n",
    "***collections_12_mths_ex_med*** This columns represents the behavioural variable for customer which is applicable after disbursment of the loan. So this is not required for our analysis.\n"
   ]
  },
  {
   "cell_type": "code",
   "execution_count": 10,
   "metadata": {
    "cell_id": "00017-a6c52cbb-32ab-481c-a46f-37d191b34164",
    "deepnote_cell_type": "code",
    "deepnote_to_be_reexecuted": false,
    "execution_millis": 14,
    "execution_start": 1610905380819,
    "id": "kMT46ubTiJds",
    "source_hash": "50783ae"
   },
   "outputs": [],
   "source": [
    "null_lst=['desc','last_credit_pull_d','revol_util','revol_bal','last_pymnt_d','mths_since_last_delinq',\"title\",\"tax_liens\",\"chargeoff_within_12_mths\",\"collections_12_mths_ex_med\"]\n",
    "df.drop(null_lst, axis=1, inplace=True)"
   ]
  },
  {
   "cell_type": "code",
   "execution_count": 11,
   "metadata": {
    "cell_id": "00018-0348826e-4786-4f13-a73c-769c68941586",
    "colab": {
     "base_uri": "https://localhost:8080/",
     "height": 377
    },
    "deepnote_cell_type": "code",
    "deepnote_to_be_reexecuted": false,
    "executionInfo": {
     "elapsed": 5751,
     "status": "ok",
     "timestamp": 1610947545438,
     "user": {
      "displayName": "Surajit Das",
      "photoUrl": "",
      "userId": "12795377520497298003"
     },
     "user_tz": -330
    },
    "execution_millis": 529,
    "execution_start": 1610905380843,
    "id": "s7_hqS0KiJdt",
    "outputId": "a3151700-dcca-4776-b34a-bff264ed0d3a",
    "source_hash": "e5cd0a1b"
   },
   "outputs": [
    {
     "name": "stdout",
     "output_type": "stream",
     "text": [
      "loan Dim: (39717, 45)\n"
     ]
    },
    {
     "data": {
      "text/html": [
       "<div>\n",
       "<style scoped>\n",
       "    .dataframe tbody tr th:only-of-type {\n",
       "        vertical-align: middle;\n",
       "    }\n",
       "\n",
       "    .dataframe tbody tr th {\n",
       "        vertical-align: top;\n",
       "    }\n",
       "\n",
       "    .dataframe thead th {\n",
       "        text-align: right;\n",
       "    }\n",
       "</style>\n",
       "<table border=\"1\" class=\"dataframe\">\n",
       "  <thead>\n",
       "    <tr style=\"text-align: right;\">\n",
       "      <th></th>\n",
       "      <th>dtypes</th>\n",
       "      <th>Missing</th>\n",
       "      <th>Missing%</th>\n",
       "      <th>Uniques</th>\n",
       "      <th>Description</th>\n",
       "      <th>Unnamed: 2</th>\n",
       "      <th>Unnamed: 3</th>\n",
       "      <th>Unnamed: 4</th>\n",
       "      <th>Unnamed: 5</th>\n",
       "      <th>Unnamed: 6</th>\n",
       "      <th>Unnamed: 7</th>\n",
       "      <th>Unnamed: 8</th>\n",
       "      <th>Unnamed: 9</th>\n",
       "      <th>Unnamed: 10</th>\n",
       "    </tr>\n",
       "  </thead>\n",
       "  <tbody>\n",
       "    <tr>\n",
       "      <th>emp_length</th>\n",
       "      <td>object</td>\n",
       "      <td>1075</td>\n",
       "      <td>2.706650</td>\n",
       "      <td>11</td>\n",
       "      <td>Employment length in years. Possible values are between 0 and 10 where 0 means less than one year and 10 means ten or more years.</td>\n",
       "      <td>NaN</td>\n",
       "      <td>NaN</td>\n",
       "      <td>NaN</td>\n",
       "      <td>NaN</td>\n",
       "      <td>NaN</td>\n",
       "      <td>NaN</td>\n",
       "      <td>NaN</td>\n",
       "      <td>NaN</td>\n",
       "      <td>NaN</td>\n",
       "    </tr>\n",
       "    <tr>\n",
       "      <th>emp_title</th>\n",
       "      <td>object</td>\n",
       "      <td>2459</td>\n",
       "      <td>6.191303</td>\n",
       "      <td>28820</td>\n",
       "      <td>The job title supplied by the Borrower when applying for the loan.*</td>\n",
       "      <td>NaN</td>\n",
       "      <td>NaN</td>\n",
       "      <td>NaN</td>\n",
       "      <td>NaN</td>\n",
       "      <td>NaN</td>\n",
       "      <td>NaN</td>\n",
       "      <td>NaN</td>\n",
       "      <td>NaN</td>\n",
       "      <td>NaN</td>\n",
       "    </tr>\n",
       "    <tr>\n",
       "      <th>pub_rec_bankruptcies</th>\n",
       "      <td>float64</td>\n",
       "      <td>697</td>\n",
       "      <td>1.754916</td>\n",
       "      <td>3</td>\n",
       "      <td>Number of public record bankruptcies</td>\n",
       "      <td>NaN</td>\n",
       "      <td>NaN</td>\n",
       "      <td>NaN</td>\n",
       "      <td>NaN</td>\n",
       "      <td>NaN</td>\n",
       "      <td>NaN</td>\n",
       "      <td>NaN</td>\n",
       "      <td>NaN</td>\n",
       "      <td>NaN</td>\n",
       "    </tr>\n",
       "  </tbody>\n",
       "</table>\n",
       "</div>"
      ],
      "text/plain": [
       "                       dtypes  Missing  Missing%  Uniques  \\\n",
       "emp_length             object     1075  2.706650       11   \n",
       "emp_title              object     2459  6.191303    28820   \n",
       "pub_rec_bankruptcies  float64      697  1.754916        3   \n",
       "\n",
       "                                                                                                                                             Description  \\\n",
       "emp_length            Employment length in years. Possible values are between 0 and 10 where 0 means less than one year and 10 means ten or more years.    \n",
       "emp_title                                                                            The job title supplied by the Borrower when applying for the loan.*   \n",
       "pub_rec_bankruptcies                                                                                                Number of public record bankruptcies   \n",
       "\n",
       "                      Unnamed: 2  Unnamed: 3  Unnamed: 4  Unnamed: 5  \\\n",
       "emp_length                   NaN         NaN         NaN         NaN   \n",
       "emp_title                    NaN         NaN         NaN         NaN   \n",
       "pub_rec_bankruptcies         NaN         NaN         NaN         NaN   \n",
       "\n",
       "                      Unnamed: 6  Unnamed: 7  Unnamed: 8  Unnamed: 9  \\\n",
       "emp_length                   NaN         NaN         NaN         NaN   \n",
       "emp_title                    NaN         NaN         NaN         NaN   \n",
       "pub_rec_bankruptcies         NaN         NaN         NaN         NaN   \n",
       "\n",
       "                      Unnamed: 10  \n",
       "emp_length                    NaN  \n",
       "emp_title                     NaN  \n",
       "pub_rec_bankruptcies          NaN  "
      ]
     },
     "execution_count": 11,
     "metadata": {},
     "output_type": "execute_result"
    }
   ],
   "source": [
    "sdf=qck(df)\n",
    "sdf[(sdf['Missing']!=0)].sort_index().head(50)"
   ]
  },
  {
   "cell_type": "markdown",
   "metadata": {
    "cell_id": "00019-f096ca23-aa54-45a2-ad9b-d2e9bbd2f63d",
    "deepnote_cell_type": "markdown",
    "id": "53AWe7c_iJdt",
    "tags": []
   },
   "source": [
    "In case of 'emp_length' & 'Emp_title' we can drop the rows those contain null values"
   ]
  },
  {
   "cell_type": "code",
   "execution_count": 12,
   "metadata": {
    "cell_id": "00020-158c2ec6-d17d-416f-8f00-094e3c96668f",
    "deepnote_cell_type": "code",
    "deepnote_to_be_reexecuted": false,
    "execution_millis": 72,
    "execution_start": 1610905381377,
    "id": "7faw7yLjiJdt",
    "source_hash": "df845110"
   },
   "outputs": [],
   "source": [
    "df.dropna(axis=0, how=\"any\", inplace=True)"
   ]
  },
  {
   "cell_type": "code",
   "execution_count": 13,
   "metadata": {
    "cell_id": "00021-0d6156f4-d15d-467c-8279-a1a7bfc56c8f",
    "colab": {
     "base_uri": "https://localhost:8080/",
     "height": 66
    },
    "deepnote_cell_type": "code",
    "deepnote_to_be_reexecuted": false,
    "executionInfo": {
     "elapsed": 6414,
     "status": "ok",
     "timestamp": 1610947546112,
     "user": {
      "displayName": "Surajit Das",
      "photoUrl": "",
      "userId": "12795377520497298003"
     },
     "user_tz": -330
    },
    "execution_millis": 476,
    "execution_start": 1610905381451,
    "id": "6ZnTzzxGiJdt",
    "outputId": "d7382ef4-9895-4743-9bc3-8d8ab370b0d0",
    "source_hash": "e5cd0a1b",
    "tags": []
   },
   "outputs": [
    {
     "name": "stdout",
     "output_type": "stream",
     "text": [
      "loan Dim: (36548, 45)\n"
     ]
    },
    {
     "data": {
      "text/html": [
       "<div>\n",
       "<style scoped>\n",
       "    .dataframe tbody tr th:only-of-type {\n",
       "        vertical-align: middle;\n",
       "    }\n",
       "\n",
       "    .dataframe tbody tr th {\n",
       "        vertical-align: top;\n",
       "    }\n",
       "\n",
       "    .dataframe thead th {\n",
       "        text-align: right;\n",
       "    }\n",
       "</style>\n",
       "<table border=\"1\" class=\"dataframe\">\n",
       "  <thead>\n",
       "    <tr style=\"text-align: right;\">\n",
       "      <th></th>\n",
       "      <th>dtypes</th>\n",
       "      <th>Missing</th>\n",
       "      <th>Missing%</th>\n",
       "      <th>Uniques</th>\n",
       "      <th>Description</th>\n",
       "      <th>Unnamed: 2</th>\n",
       "      <th>Unnamed: 3</th>\n",
       "      <th>Unnamed: 4</th>\n",
       "      <th>Unnamed: 5</th>\n",
       "      <th>Unnamed: 6</th>\n",
       "      <th>Unnamed: 7</th>\n",
       "      <th>Unnamed: 8</th>\n",
       "      <th>Unnamed: 9</th>\n",
       "      <th>Unnamed: 10</th>\n",
       "    </tr>\n",
       "  </thead>\n",
       "  <tbody>\n",
       "  </tbody>\n",
       "</table>\n",
       "</div>"
      ],
      "text/plain": [
       "Empty DataFrame\n",
       "Columns: [dtypes, Missing, Missing%, Uniques, Description, Unnamed: 2, Unnamed: 3, Unnamed: 4, Unnamed: 5, Unnamed: 6, Unnamed: 7, Unnamed: 8, Unnamed: 9, Unnamed: 10]\n",
       "Index: []"
      ]
     },
     "execution_count": 13,
     "metadata": {},
     "output_type": "execute_result"
    }
   ],
   "source": [
    "sdf=qck(df)\n",
    "sdf[(sdf['Missing']!=0)].sort_index().head(50)"
   ]
  },
  {
   "cell_type": "markdown",
   "metadata": {
    "cell_id": "00024-3a10e06d-fa04-4d6a-9420-8b1bb85a3f11",
    "deepnote_cell_type": "markdown",
    "id": "GrkfTFsBiJdu",
    "tags": []
   },
   "source": [
    "### Further we can reduce the dimension of dataframe by excempting some more useless columns mentioned below\n",
    "***id :*** is a random number given to the loan, does not contribute to analysis<br>\n",
    "***member_id :*** is a random number given to the member, does not contribute to analysis<br>\n",
    "***url :*** is a URL for LC page for corresponding to each memberid, nothing to do with loan default.<br>\n",
    "***zip_code :*** This column does not influence the analysis. we have  othe same type of demographic column named \"addr_state\"<br>\n",
    "***funded_amnt :*** value for this column is almost equivalent to loan_amnt. removing to avoid multi colinearity (observed using correlation marix).<br>\n",
    "***funded_amnt_inv :*** value for this column is almost equivalent to funded_amnt (observed using correlation marix), removing to avoid multi colinearity. Also this wont be available at the time of decision making of funding a loan.\n"
   ]
  },
  {
   "cell_type": "code",
   "execution_count": 14,
   "metadata": {
    "cell_id": "00025-e55936f7-3c3b-4b85-bacf-0778762022f6",
    "colab": {
     "base_uri": "https://localhost:8080/"
    },
    "deepnote_cell_type": "code",
    "deepnote_to_be_reexecuted": false,
    "executionInfo": {
     "elapsed": 6408,
     "status": "ok",
     "timestamp": 1610947546117,
     "user": {
      "displayName": "Surajit Das",
      "photoUrl": "",
      "userId": "12795377520497298003"
     },
     "user_tz": -330
    },
    "execution_millis": 13,
    "execution_start": 1610905381949,
    "id": "751akiCSiJdu",
    "outputId": "ddd8c7f9-0058-4ebb-9265-0c9c47f0e186",
    "source_hash": "5aaee931",
    "tags": []
   },
   "outputs": [
    {
     "data": {
      "text/plain": [
       "(36548, 39)"
      ]
     },
     "execution_count": 14,
     "metadata": {},
     "output_type": "execute_result"
    }
   ],
   "source": [
    "null_lst=['id','member_id','url','zip_code',\"funded_amnt\",\"funded_amnt_inv\"]\n",
    "df.drop(null_lst, axis=1, inplace=True)\n",
    "df.shape"
   ]
  },
  {
   "cell_type": "code",
   "execution_count": 15,
   "metadata": {
    "cell_id": "00026-349b7956-7058-41e2-bffa-7fa2e924b7aa",
    "colab": {
     "base_uri": "https://localhost:8080/"
    },
    "deepnote_cell_type": "code",
    "executionInfo": {
     "elapsed": 6404,
     "status": "ok",
     "timestamp": 1610947546118,
     "user": {
      "displayName": "Surajit Das",
      "photoUrl": "",
      "userId": "12795377520497298003"
     },
     "user_tz": -330
    },
    "id": "qIMq3yzu8pXb",
    "outputId": "30906e79-2ad9-4e01-daab-aa8e0208c9d6"
   },
   "outputs": [
    {
     "data": {
      "text/plain": [
       "Index(['acc_now_delinq', 'addr_state', 'annual_inc', 'application_type',\n",
       "       'collection_recovery_fee', 'delinq_2yrs', 'delinq_amnt', 'dti',\n",
       "       'earliest_cr_line', 'emp_length', 'emp_title', 'grade',\n",
       "       'home_ownership', 'initial_list_status', 'inq_last_6mths',\n",
       "       'installment', 'int_rate', 'issue_d', 'last_pymnt_amnt', 'loan_amnt',\n",
       "       'loan_status', 'open_acc', 'out_prncp', 'out_prncp_inv', 'policy_code',\n",
       "       'pub_rec', 'pub_rec_bankruptcies', 'purpose', 'pymnt_plan',\n",
       "       'recoveries', 'sub_grade', 'term', 'total_acc', 'total_pymnt',\n",
       "       'total_pymnt_inv', 'total_rec_int', 'total_rec_late_fee',\n",
       "       'total_rec_prncp', 'verification_status'],\n",
       "      dtype='object')"
      ]
     },
     "execution_count": 15,
     "metadata": {},
     "output_type": "execute_result"
    }
   ],
   "source": [
    "df.columns.sort_values()"
   ]
  },
  {
   "cell_type": "markdown",
   "metadata": {
    "cell_id": "00027-3fd8b35b-d0c2-4190-a856-771c08e019da",
    "deepnote_cell_type": "markdown",
    "id": "WqvkS4h7iJdu",
    "tags": []
   },
   "source": [
    "### Removing rows having value \"current\" in loan_status Column"
   ]
  },
  {
   "cell_type": "code",
   "execution_count": 16,
   "metadata": {
    "cell_id": "00028-a8b60520-3f2b-491f-8f04-982941da2f87",
    "colab": {
     "base_uri": "https://localhost:8080/"
    },
    "deepnote_cell_type": "code",
    "deepnote_to_be_reexecuted": false,
    "executionInfo": {
     "elapsed": 6398,
     "status": "ok",
     "timestamp": 1610947546118,
     "user": {
      "displayName": "Surajit Das",
      "photoUrl": "",
      "userId": "12795377520497298003"
     },
     "user_tz": -330
    },
    "execution_millis": 13,
    "execution_start": 1610905381970,
    "id": "JgdQJgPWiJdu",
    "outputId": "bd4215d5-5061-4b8a-ec17-235e71b890c2",
    "source_hash": "49165208",
    "tags": []
   },
   "outputs": [
    {
     "data": {
      "text/plain": [
       "(35482, 39)"
      ]
     },
     "execution_count": 16,
     "metadata": {},
     "output_type": "execute_result"
    }
   ],
   "source": [
    "df=df[~(df.loan_status=='Current')]\n",
    "df.shape"
   ]
  },
  {
   "cell_type": "markdown",
   "metadata": {
    "cell_id": "00022-9da19238-16ac-49cb-b3f3-c84e7c201237",
    "deepnote_cell_type": "markdown",
    "id": "MuKhZTgLiJdt",
    "tags": []
   },
   "source": [
    "### Now there is no null value, but we can reduce the dimension of dataframe by excempting the columns having identical values."
   ]
  },
  {
   "cell_type": "code",
   "execution_count": 17,
   "metadata": {
    "cell_id": "00023-a652de65-6f09-438f-b158-d5e80b581f78",
    "colab": {
     "base_uri": "https://localhost:8080/"
    },
    "deepnote_cell_type": "code",
    "deepnote_to_be_reexecuted": false,
    "executionInfo": {
     "elapsed": 6411,
     "status": "ok",
     "timestamp": 1610947546116,
     "user": {
      "displayName": "Surajit Das",
      "photoUrl": "",
      "userId": "12795377520497298003"
     },
     "user_tz": -330
    },
    "execution_millis": 12,
    "execution_start": 1610905381935,
    "id": "gc8K-gcUiJdu",
    "outputId": "2d8faaa2-da20-4e6f-d4e9-00aff88daa67",
    "source_hash": "2b2b3493",
    "tags": []
   },
   "outputs": [
    {
     "data": {
      "text/plain": [
       "(35482, 33)"
      ]
     },
     "execution_count": 17,
     "metadata": {},
     "output_type": "execute_result"
    }
   ],
   "source": [
    "unique_flt=(sdf[\"Uniques\"]==1)\n",
    "uniq_col_flt=sdf[unique_flt].index\n",
    "df.drop(uniq_col_flt, axis=1, inplace=True)\n",
    "df.shape"
   ]
  },
  {
   "cell_type": "markdown",
   "metadata": {
    "cell_id": "00029-32b3c6fd-1ffd-4815-90ca-bedf09cfe3a8",
    "deepnote_cell_type": "markdown",
    "id": "DxKAck1MiJdv",
    "tags": []
   },
   "source": [
    "### Derive \"loan_status\"  numeric column for easy calculatyion"
   ]
  },
  {
   "cell_type": "code",
   "execution_count": 18,
   "metadata": {
    "cell_id": "00030-97d5249f-a7d1-4e54-b5c8-2f9984af847b",
    "deepnote_cell_type": "code",
    "deepnote_to_be_reexecuted": false,
    "execution_millis": 0,
    "execution_start": 1610905382027,
    "id": "EQ37byluiJdv",
    "source_hash": "a123e0e0",
    "tags": []
   },
   "outputs": [],
   "source": [
    "df[\"z_loan_status\"]=df['loan_status']\n",
    "loan_status_dict={'Fully Paid':0, 'Charged Off':1}\n",
    "df = df.replace({\"z_loan_status\": loan_status_dict })"
   ]
  },
  {
   "cell_type": "markdown",
   "metadata": {
    "cell_id": "00032-660e72d4-2f74-4676-8ccb-26feb531a03b",
    "deepnote_cell_type": "markdown",
    "id": "eZNCrHcZiJdv",
    "tags": []
   },
   "source": [
    "### Replacing emp_length to numreic values"
   ]
  },
  {
   "cell_type": "code",
   "execution_count": 19,
   "metadata": {
    "cell_id": "00033-2c53c86f-34ce-4b22-8382-7997e5a58d75",
    "deepnote_cell_type": "code",
    "deepnote_to_be_reexecuted": false,
    "execution_millis": 1,
    "execution_start": 1610905382075,
    "id": "-uUhZUZgiJdw",
    "source_hash": "cbcaa31f",
    "tags": []
   },
   "outputs": [],
   "source": [
    "emp_length_dict = {\n",
    "    '< 1 year' : 0,\n",
    "    '1 year' : 1,\n",
    "    '2 years' : 2,\n",
    "    '3 years' : 3,\n",
    "    '4 years' : 4,\n",
    "    '5 years' : 5,\n",
    "    '6 years' : 6,\n",
    "    '7 years' : 7,\n",
    "    '8 years' : 8,\n",
    "    '9 years' : 9,\n",
    "    '10+ years' : 10\n",
    "}\n",
    "\n",
    "df = df.replace({\"emp_length\": emp_length_dict })"
   ]
  },
  {
   "cell_type": "markdown",
   "metadata": {
    "cell_id": "00034-daaa9f5c-221f-40a1-9038-d1903741e9e3",
    "deepnote_cell_type": "markdown",
    "id": "1qvf9RhviJdw",
    "tags": []
   },
   "source": [
    "### <span style=\"color:orange\">11>  Stripping \"%\"</span>"
   ]
  },
  {
   "cell_type": "code",
   "execution_count": 20,
   "metadata": {
    "cell_id": "00035-6e01ca63-2db1-4c9c-8a58-b609950a8284",
    "deepnote_cell_type": "code",
    "deepnote_to_be_reexecuted": false,
    "execution_millis": 13,
    "execution_start": 1610906342855,
    "id": "Ha7rCVqkiJdw",
    "source_hash": "a4ebb621",
    "tags": []
   },
   "outputs": [],
   "source": [
    "df.int_rate=df.int_rate.str.strip(\"%\").astype('float')\n",
    "#df.revol_util=df.revol_util.str.strip(\"%\").astype('float')\n",
    "#df.int_rate"
   ]
  },
  {
   "cell_type": "markdown",
   "metadata": {
    "cell_id": "00036-97f09cfc-2587-411a-8093-c8a63eb0b6ea",
    "deepnote_cell_type": "markdown",
    "id": "ErjJiG_tiJdw",
    "tags": []
   },
   "source": [
    "### <span style=\"color:orange\">12>  Cast all continuos variables to numeric</span>"
   ]
  },
  {
   "cell_type": "code",
   "execution_count": 21,
   "metadata": {
    "cell_id": "00037-058ef1dc-5687-4942-a9dc-dd0faab90e8d",
    "colab": {
     "base_uri": "https://localhost:8080/"
    },
    "deepnote_cell_type": "code",
    "deepnote_to_be_reexecuted": false,
    "executionInfo": {
     "elapsed": 6380,
     "status": "ok",
     "timestamp": 1610947546122,
     "user": {
      "displayName": "Surajit Das",
      "photoUrl": "",
      "userId": "12795377520497298003"
     },
     "user_tz": -330
    },
    "execution_millis": 189,
    "execution_start": 1610905951711,
    "id": "50NS5T3wiJdw",
    "outputId": "6002911c-99ee-4c72-d4da-9d883847da83",
    "source_hash": "f70c2c78",
    "tags": []
   },
   "outputs": [
    {
     "name": "stdout",
     "output_type": "stream",
     "text": [
      "loan Dim: (35482, 34)\n"
     ]
    },
    {
     "data": {
      "text/html": [
       "<div>\n",
       "<style scoped>\n",
       "    .dataframe tbody tr th:only-of-type {\n",
       "        vertical-align: middle;\n",
       "    }\n",
       "\n",
       "    .dataframe tbody tr th {\n",
       "        vertical-align: top;\n",
       "    }\n",
       "\n",
       "    .dataframe thead th {\n",
       "        text-align: right;\n",
       "    }\n",
       "</style>\n",
       "<table border=\"1\" class=\"dataframe\">\n",
       "  <thead>\n",
       "    <tr style=\"text-align: right;\">\n",
       "      <th></th>\n",
       "      <th>dtypes</th>\n",
       "      <th>Missing</th>\n",
       "      <th>Missing%</th>\n",
       "      <th>Uniques</th>\n",
       "      <th>Description</th>\n",
       "      <th>Unnamed: 2</th>\n",
       "      <th>Unnamed: 3</th>\n",
       "      <th>Unnamed: 4</th>\n",
       "      <th>Unnamed: 5</th>\n",
       "      <th>Unnamed: 6</th>\n",
       "      <th>Unnamed: 7</th>\n",
       "      <th>Unnamed: 8</th>\n",
       "      <th>Unnamed: 9</th>\n",
       "      <th>Unnamed: 10</th>\n",
       "    </tr>\n",
       "  </thead>\n",
       "  <tbody>\n",
       "    <tr>\n",
       "      <th>annual_inc</th>\n",
       "      <td>float64</td>\n",
       "      <td>0</td>\n",
       "      <td>0.0</td>\n",
       "      <td>4842</td>\n",
       "      <td>The self-reported annual income provided by the borrower during registration.</td>\n",
       "      <td>NaN</td>\n",
       "      <td>NaN</td>\n",
       "      <td>NaN</td>\n",
       "      <td>NaN</td>\n",
       "      <td>NaN</td>\n",
       "      <td>NaN</td>\n",
       "      <td>NaN</td>\n",
       "      <td>NaN</td>\n",
       "      <td>NaN</td>\n",
       "    </tr>\n",
       "    <tr>\n",
       "      <th>collection_recovery_fee</th>\n",
       "      <td>float64</td>\n",
       "      <td>0</td>\n",
       "      <td>0.0</td>\n",
       "      <td>2410</td>\n",
       "      <td>post charge off collection fee</td>\n",
       "      <td>NaN</td>\n",
       "      <td>NaN</td>\n",
       "      <td>NaN</td>\n",
       "      <td>NaN</td>\n",
       "      <td>NaN</td>\n",
       "      <td>NaN</td>\n",
       "      <td>NaN</td>\n",
       "      <td>NaN</td>\n",
       "      <td>NaN</td>\n",
       "    </tr>\n",
       "    <tr>\n",
       "      <th>dti</th>\n",
       "      <td>float64</td>\n",
       "      <td>0</td>\n",
       "      <td>0.0</td>\n",
       "      <td>2842</td>\n",
       "      <td>A ratio calculated using the borrower’s total monthly debt payments on the total debt obligations, excluding mortgage and the requested LC loan, divided by the borrower’s self-reported monthly income.</td>\n",
       "      <td>NaN</td>\n",
       "      <td>NaN</td>\n",
       "      <td>NaN</td>\n",
       "      <td>NaN</td>\n",
       "      <td>NaN</td>\n",
       "      <td>NaN</td>\n",
       "      <td>NaN</td>\n",
       "      <td>NaN</td>\n",
       "      <td>NaN</td>\n",
       "    </tr>\n",
       "    <tr>\n",
       "      <th>installment</th>\n",
       "      <td>float64</td>\n",
       "      <td>0</td>\n",
       "      <td>0.0</td>\n",
       "      <td>14067</td>\n",
       "      <td>The monthly payment owed by the borrower if the loan originates.</td>\n",
       "      <td>NaN</td>\n",
       "      <td>NaN</td>\n",
       "      <td>NaN</td>\n",
       "      <td>NaN</td>\n",
       "      <td>NaN</td>\n",
       "      <td>NaN</td>\n",
       "      <td>NaN</td>\n",
       "      <td>NaN</td>\n",
       "      <td>NaN</td>\n",
       "    </tr>\n",
       "    <tr>\n",
       "      <th>int_rate</th>\n",
       "      <td>float64</td>\n",
       "      <td>0</td>\n",
       "      <td>0.0</td>\n",
       "      <td>334</td>\n",
       "      <td>Interest Rate on the loan</td>\n",
       "      <td>NaN</td>\n",
       "      <td>NaN</td>\n",
       "      <td>NaN</td>\n",
       "      <td>NaN</td>\n",
       "      <td>NaN</td>\n",
       "      <td>NaN</td>\n",
       "      <td>NaN</td>\n",
       "      <td>NaN</td>\n",
       "      <td>NaN</td>\n",
       "    </tr>\n",
       "    <tr>\n",
       "      <th>loan_amnt</th>\n",
       "      <td>int64</td>\n",
       "      <td>0</td>\n",
       "      <td>0.0</td>\n",
       "      <td>848</td>\n",
       "      <td>The listed amount of the loan applied for by the borrower. If at some point in time, the credit department reduces the loan amount, then it will be reflected in this value.</td>\n",
       "      <td>NaN</td>\n",
       "      <td>NaN</td>\n",
       "      <td>NaN</td>\n",
       "      <td>NaN</td>\n",
       "      <td>NaN</td>\n",
       "      <td>NaN</td>\n",
       "      <td>NaN</td>\n",
       "      <td>NaN</td>\n",
       "      <td>NaN</td>\n",
       "    </tr>\n",
       "    <tr>\n",
       "      <th>total_pymnt</th>\n",
       "      <td>float64</td>\n",
       "      <td>0</td>\n",
       "      <td>0.0</td>\n",
       "      <td>33840</td>\n",
       "      <td>Payments received to date for total amount funded</td>\n",
       "      <td>NaN</td>\n",
       "      <td>NaN</td>\n",
       "      <td>NaN</td>\n",
       "      <td>NaN</td>\n",
       "      <td>NaN</td>\n",
       "      <td>NaN</td>\n",
       "      <td>NaN</td>\n",
       "      <td>NaN</td>\n",
       "      <td>NaN</td>\n",
       "    </tr>\n",
       "    <tr>\n",
       "      <th>total_rec_late_fee</th>\n",
       "      <td>float64</td>\n",
       "      <td>0</td>\n",
       "      <td>0.0</td>\n",
       "      <td>1166</td>\n",
       "      <td>Late fees received to date</td>\n",
       "      <td>NaN</td>\n",
       "      <td>NaN</td>\n",
       "      <td>NaN</td>\n",
       "      <td>NaN</td>\n",
       "      <td>NaN</td>\n",
       "      <td>NaN</td>\n",
       "      <td>NaN</td>\n",
       "      <td>NaN</td>\n",
       "      <td>NaN</td>\n",
       "    </tr>\n",
       "  </tbody>\n",
       "</table>\n",
       "</div>"
      ],
      "text/plain": [
       "                          dtypes  Missing  Missing%  Uniques  \\\n",
       "annual_inc               float64        0       0.0     4842   \n",
       "collection_recovery_fee  float64        0       0.0     2410   \n",
       "dti                      float64        0       0.0     2842   \n",
       "installment              float64        0       0.0    14067   \n",
       "int_rate                 float64        0       0.0      334   \n",
       "loan_amnt                  int64        0       0.0      848   \n",
       "total_pymnt              float64        0       0.0    33840   \n",
       "total_rec_late_fee       float64        0       0.0     1166   \n",
       "\n",
       "                                                                                                                                                                                                                      Description  \\\n",
       "annual_inc                                                                                                                                          The self-reported annual income provided by the borrower during registration.   \n",
       "collection_recovery_fee                                                                                                                                                                            post charge off collection fee   \n",
       "dti                      A ratio calculated using the borrower’s total monthly debt payments on the total debt obligations, excluding mortgage and the requested LC loan, divided by the borrower’s self-reported monthly income.   \n",
       "installment                                                                                                                                                      The monthly payment owed by the borrower if the loan originates.   \n",
       "int_rate                                                                                                                                                                                                Interest Rate on the loan   \n",
       "loan_amnt                                            The listed amount of the loan applied for by the borrower. If at some point in time, the credit department reduces the loan amount, then it will be reflected in this value.   \n",
       "total_pymnt                                                                                                                                                                     Payments received to date for total amount funded   \n",
       "total_rec_late_fee                                                                                                                                                                                     Late fees received to date   \n",
       "\n",
       "                         Unnamed: 2  Unnamed: 3  Unnamed: 4  Unnamed: 5  \\\n",
       "annual_inc                      NaN         NaN         NaN         NaN   \n",
       "collection_recovery_fee         NaN         NaN         NaN         NaN   \n",
       "dti                             NaN         NaN         NaN         NaN   \n",
       "installment                     NaN         NaN         NaN         NaN   \n",
       "int_rate                        NaN         NaN         NaN         NaN   \n",
       "loan_amnt                       NaN         NaN         NaN         NaN   \n",
       "total_pymnt                     NaN         NaN         NaN         NaN   \n",
       "total_rec_late_fee              NaN         NaN         NaN         NaN   \n",
       "\n",
       "                         Unnamed: 6  Unnamed: 7  Unnamed: 8  Unnamed: 9  \\\n",
       "annual_inc                      NaN         NaN         NaN         NaN   \n",
       "collection_recovery_fee         NaN         NaN         NaN         NaN   \n",
       "dti                             NaN         NaN         NaN         NaN   \n",
       "installment                     NaN         NaN         NaN         NaN   \n",
       "int_rate                        NaN         NaN         NaN         NaN   \n",
       "loan_amnt                       NaN         NaN         NaN         NaN   \n",
       "total_pymnt                     NaN         NaN         NaN         NaN   \n",
       "total_rec_late_fee              NaN         NaN         NaN         NaN   \n",
       "\n",
       "                         Unnamed: 10  \n",
       "annual_inc                       NaN  \n",
       "collection_recovery_fee          NaN  \n",
       "dti                              NaN  \n",
       "installment                      NaN  \n",
       "int_rate                         NaN  \n",
       "loan_amnt                        NaN  \n",
       "total_pymnt                      NaN  \n",
       "total_rec_late_fee               NaN  "
      ]
     },
     "execution_count": 21,
     "metadata": {},
     "output_type": "execute_result"
    }
   ],
   "source": [
    "sdf=qck(df)\n",
    "flt=sdf.index.isin( ['loan_amnt','funded_amnt','funded_amnt_inv','installment','int_rate','annual_inc','dti','total_pymnt','total_rec_late_fee','collection_recovery_fee'])\n",
    "sdf[flt]\n"
   ]
  },
  {
   "cell_type": "markdown",
   "metadata": {
    "cell_id": "00038-58ea2d22-6c62-406d-8448-9e08ac81001c",
    "deepnote_cell_type": "markdown",
    "id": "NGUa7nhfiJdx",
    "tags": []
   },
   "source": [
    "## <a id=\"04\" style=\"color:Blue; font-size: 24px;\">Derived Metrices</a>"
   ]
  },
  {
   "cell_type": "markdown",
   "metadata": {
    "cell_id": "00039-42e095b2-49bd-44f0-8364-2f1edbf60918",
    "deepnote_cell_type": "markdown",
    "id": "FmAR4vHJiJdx",
    "tags": []
   },
   "source": [
    "### <span style=\"color:orange\">1> Loan Amount to Income ratio.</span>"
   ]
  },
  {
   "cell_type": "code",
   "execution_count": 22,
   "metadata": {
    "cell_id": "00040-d6e89a8d-ecfe-4fbc-9ca9-df3e7c58be96",
    "deepnote_cell_type": "code",
    "deepnote_to_be_reexecuted": false,
    "execution_millis": 6,
    "execution_start": 1610905382520,
    "id": "eBlfrCQ-iJdx",
    "source_hash": "821ee820",
    "tags": []
   },
   "outputs": [],
   "source": [
    "df['loan_income_ratio']= df['loan_amnt']/df['annual_inc']"
   ]
  },
  {
   "cell_type": "markdown",
   "metadata": {
    "cell_id": "00041-7ab4f44f-656a-4c43-bccf-2c8bb2bacbe0",
    "deepnote_cell_type": "markdown",
    "id": "syqivAxviJdx",
    "tags": []
   },
   "source": [
    "### <span style=\"color:orange\">2> Extracting Year & Month from Issue date.</span>"
   ]
  },
  {
   "cell_type": "code",
   "execution_count": 23,
   "metadata": {
    "cell_id": "00042-adaab917-9d80-4aff-9e34-b4b3eedada5f",
    "deepnote_cell_type": "code",
    "deepnote_to_be_reexecuted": false,
    "execution_millis": 122,
    "execution_start": 1610905382528,
    "id": "jQrH2g0biJdx",
    "source_hash": "25ac5d5",
    "tags": []
   },
   "outputs": [],
   "source": [
    "df[[\"z_iss_m\",\"z_iss_y\"]]=df[\"issue_d\"].str.split(\"-\",expand=True)"
   ]
  },
  {
   "cell_type": "markdown",
   "metadata": {
    "cell_id": "00043-a133b33e-4a73-4827-863a-e978fbeabf55",
    "deepnote_cell_type": "markdown",
    "id": "zjOArdz0iJdx",
    "tags": []
   },
   "source": [
    "### <span style=\"color:orange\">3> Arranging \"z_iss_m\" in ascending order as it is ordered categorial variables.</span>"
   ]
  },
  {
   "cell_type": "code",
   "execution_count": 24,
   "metadata": {
    "cell_id": "00044-ca02cf4f-262a-4e97-acde-8fb325e01fcb",
    "colab": {
     "base_uri": "https://localhost:8080/"
    },
    "deepnote_cell_type": "code",
    "deepnote_to_be_reexecuted": false,
    "executionInfo": {
     "elapsed": 6968,
     "status": "ok",
     "timestamp": 1610947546724,
     "user": {
      "displayName": "Surajit Das",
      "photoUrl": "",
      "userId": "12795377520497298003"
     },
     "user_tz": -330
    },
    "execution_millis": 157,
    "execution_start": 1610905382652,
    "id": "dz6_sFJhiJdx",
    "outputId": "fadfe922-f7f5-4ff0-e86c-23b5ba168173",
    "source_hash": "f87a89a",
    "tags": []
   },
   "outputs": [
    {
     "data": {
      "text/html": [
       "<div>\n",
       "<style scoped>\n",
       "    .dataframe tbody tr th:only-of-type {\n",
       "        vertical-align: middle;\n",
       "    }\n",
       "\n",
       "    .dataframe tbody tr th {\n",
       "        vertical-align: top;\n",
       "    }\n",
       "\n",
       "    .dataframe thead th {\n",
       "        text-align: right;\n",
       "    }\n",
       "</style>\n",
       "<table border=\"1\" class=\"dataframe\">\n",
       "  <thead>\n",
       "    <tr style=\"text-align: right;\">\n",
       "      <th></th>\n",
       "      <th>loan_amnt</th>\n",
       "      <th>term</th>\n",
       "      <th>int_rate</th>\n",
       "      <th>installment</th>\n",
       "      <th>grade</th>\n",
       "      <th>sub_grade</th>\n",
       "      <th>emp_title</th>\n",
       "      <th>emp_length</th>\n",
       "      <th>home_ownership</th>\n",
       "      <th>annual_inc</th>\n",
       "      <th>verification_status</th>\n",
       "      <th>issue_d</th>\n",
       "      <th>loan_status</th>\n",
       "      <th>purpose</th>\n",
       "      <th>addr_state</th>\n",
       "      <th>dti</th>\n",
       "      <th>delinq_2yrs</th>\n",
       "      <th>earliest_cr_line</th>\n",
       "      <th>inq_last_6mths</th>\n",
       "      <th>open_acc</th>\n",
       "      <th>pub_rec</th>\n",
       "      <th>total_acc</th>\n",
       "      <th>out_prncp</th>\n",
       "      <th>out_prncp_inv</th>\n",
       "      <th>total_pymnt</th>\n",
       "      <th>total_pymnt_inv</th>\n",
       "      <th>total_rec_prncp</th>\n",
       "      <th>total_rec_int</th>\n",
       "      <th>total_rec_late_fee</th>\n",
       "      <th>recoveries</th>\n",
       "      <th>collection_recovery_fee</th>\n",
       "      <th>last_pymnt_amnt</th>\n",
       "      <th>pub_rec_bankruptcies</th>\n",
       "      <th>z_loan_status</th>\n",
       "      <th>loan_income_ratio</th>\n",
       "      <th>z_iss_m</th>\n",
       "      <th>z_iss_y</th>\n",
       "    </tr>\n",
       "  </thead>\n",
       "  <tbody>\n",
       "    <tr>\n",
       "      <th>1</th>\n",
       "      <td>2500</td>\n",
       "      <td>60 months</td>\n",
       "      <td>15.27</td>\n",
       "      <td>59.83</td>\n",
       "      <td>C</td>\n",
       "      <td>C4</td>\n",
       "      <td>Ryder</td>\n",
       "      <td>0</td>\n",
       "      <td>RENT</td>\n",
       "      <td>30000.0</td>\n",
       "      <td>Source Verified</td>\n",
       "      <td>Dec-11</td>\n",
       "      <td>Charged Off</td>\n",
       "      <td>car</td>\n",
       "      <td>GA</td>\n",
       "      <td>1.0</td>\n",
       "      <td>0</td>\n",
       "      <td>Apr-99</td>\n",
       "      <td>5</td>\n",
       "      <td>3</td>\n",
       "      <td>0</td>\n",
       "      <td>4</td>\n",
       "      <td>0.0</td>\n",
       "      <td>0.0</td>\n",
       "      <td>1008.71</td>\n",
       "      <td>1008.71</td>\n",
       "      <td>456.46</td>\n",
       "      <td>435.17</td>\n",
       "      <td>0.00</td>\n",
       "      <td>117.08</td>\n",
       "      <td>1.11</td>\n",
       "      <td>119.66</td>\n",
       "      <td>0.0</td>\n",
       "      <td>1</td>\n",
       "      <td>0.083333</td>\n",
       "      <td>Dec</td>\n",
       "      <td>11</td>\n",
       "    </tr>\n",
       "    <tr>\n",
       "      <th>3</th>\n",
       "      <td>10000</td>\n",
       "      <td>36 months</td>\n",
       "      <td>13.49</td>\n",
       "      <td>339.31</td>\n",
       "      <td>C</td>\n",
       "      <td>C1</td>\n",
       "      <td>AIR RESOURCES BOARD</td>\n",
       "      <td>10</td>\n",
       "      <td>RENT</td>\n",
       "      <td>49200.0</td>\n",
       "      <td>Source Verified</td>\n",
       "      <td>Dec-11</td>\n",
       "      <td>Fully Paid</td>\n",
       "      <td>other</td>\n",
       "      <td>CA</td>\n",
       "      <td>20.0</td>\n",
       "      <td>0</td>\n",
       "      <td>Feb-96</td>\n",
       "      <td>1</td>\n",
       "      <td>10</td>\n",
       "      <td>0</td>\n",
       "      <td>37</td>\n",
       "      <td>0.0</td>\n",
       "      <td>0.0</td>\n",
       "      <td>12231.89</td>\n",
       "      <td>12231.89</td>\n",
       "      <td>10000.00</td>\n",
       "      <td>2214.92</td>\n",
       "      <td>16.97</td>\n",
       "      <td>0.00</td>\n",
       "      <td>0.00</td>\n",
       "      <td>357.48</td>\n",
       "      <td>0.0</td>\n",
       "      <td>0</td>\n",
       "      <td>0.203252</td>\n",
       "      <td>Dec</td>\n",
       "      <td>11</td>\n",
       "    </tr>\n",
       "  </tbody>\n",
       "</table>\n",
       "</div>"
      ],
      "text/plain": [
       "   loan_amnt        term  int_rate  installment grade sub_grade  \\\n",
       "1       2500   60 months     15.27        59.83     C        C4   \n",
       "3      10000   36 months     13.49       339.31     C        C1   \n",
       "\n",
       "             emp_title  emp_length home_ownership  annual_inc  \\\n",
       "1                Ryder           0           RENT     30000.0   \n",
       "3  AIR RESOURCES BOARD          10           RENT     49200.0   \n",
       "\n",
       "  verification_status issue_d  loan_status purpose addr_state   dti  \\\n",
       "1     Source Verified  Dec-11  Charged Off     car         GA   1.0   \n",
       "3     Source Verified  Dec-11   Fully Paid   other         CA  20.0   \n",
       "\n",
       "   delinq_2yrs earliest_cr_line  inq_last_6mths  open_acc  pub_rec  total_acc  \\\n",
       "1            0           Apr-99               5         3        0          4   \n",
       "3            0           Feb-96               1        10        0         37   \n",
       "\n",
       "   out_prncp  out_prncp_inv  total_pymnt  total_pymnt_inv  total_rec_prncp  \\\n",
       "1        0.0            0.0      1008.71          1008.71           456.46   \n",
       "3        0.0            0.0     12231.89         12231.89         10000.00   \n",
       "\n",
       "   total_rec_int  total_rec_late_fee  recoveries  collection_recovery_fee  \\\n",
       "1         435.17                0.00      117.08                     1.11   \n",
       "3        2214.92               16.97        0.00                     0.00   \n",
       "\n",
       "   last_pymnt_amnt  pub_rec_bankruptcies  z_loan_status  loan_income_ratio  \\\n",
       "1           119.66                   0.0              1           0.083333   \n",
       "3           357.48                   0.0              0           0.203252   \n",
       "\n",
       "  z_iss_m z_iss_y  \n",
       "1     Dec      11  \n",
       "3     Dec      11  "
      ]
     },
     "execution_count": 24,
     "metadata": {},
     "output_type": "execute_result"
    }
   ],
   "source": [
    "months_order = [\"Jan\", \"Feb\", \"Mar\", \"Apr\",\"May\",\"Jun\",\"Jul\",\"Aug\",\"Sep\",\"Oct\",\"Nov\",\"Dec\"]\n",
    "df['z_iss_m'] = pd.Categorical(df['z_iss_m'],categories=months_order, ordered=True)\n",
    "df.head(2)"
   ]
  },
  {
   "cell_type": "markdown",
   "metadata": {
    "cell_id": "00045-9a31cf2b-f7b6-47a3-bd9f-c9f13204836a",
    "deepnote_cell_type": "markdown",
    "id": "1uv3USjEiJdy",
    "tags": []
   },
   "source": [
    "### <span style=\"color:orange\">4> Create Bins for range of Loan Amount.</span>"
   ]
  },
  {
   "cell_type": "code",
   "execution_count": 25,
   "metadata": {
    "cell_id": "00046-c56728f2-9ea5-4518-9324-d7b50fee0a85",
    "deepnote_cell_type": "code",
    "deepnote_to_be_reexecuted": false,
    "execution_millis": 6,
    "execution_start": 1610905382811,
    "id": "T9r-r-c9iJdy",
    "source_hash": "559a8940",
    "tags": []
   },
   "outputs": [],
   "source": [
    "bins = [0, 5000, 10000, 15000, 20000, 25000,40000]\n",
    "slot = ['0-5000', '5000-10000', '10000-15000', '15000-20000', '20000-25000','25000 and above']\n",
    "df['z_loan_amnt'] = pd.cut(df['loan_amnt'], bins, labels=slot)"
   ]
  },
  {
   "cell_type": "markdown",
   "metadata": {
    "cell_id": "00047-63d4c2db-b4b7-44bb-8858-836bae3671af",
    "deepnote_cell_type": "markdown",
    "id": "AGhXT4xliJdy",
    "tags": []
   },
   "source": [
    "### <span style=\"color:orange\">5> Create Bins for range of Annual Income.</span>"
   ]
  },
  {
   "cell_type": "code",
   "execution_count": 26,
   "metadata": {
    "cell_id": "00048-af311d6d-efd6-44a1-b492-ea5ad045ddee",
    "deepnote_cell_type": "code",
    "deepnote_to_be_reexecuted": false,
    "execution_millis": 1,
    "execution_start": 1610905382853,
    "id": "iDMM9-dciJdy",
    "source_hash": "d76f6ce2",
    "tags": []
   },
   "outputs": [],
   "source": [
    "bins = [0, 25000, 50000, 75000, 100000,1000000]\n",
    "slot = ['0-25000', '25000-50000', '50000-75000', '75000-100000', '100000 and above']\n",
    "df['z_annual_inc'] = pd.cut(df['annual_inc'], bins, labels=slot)"
   ]
  },
  {
   "cell_type": "markdown",
   "metadata": {
    "cell_id": "00049-4923ad62-bc05-4df4-8a37-ee203fd52528",
    "deepnote_cell_type": "markdown",
    "id": "4bHJnXGviJdy",
    "tags": []
   },
   "source": [
    "### <span style=\"color:orange\">6> Create Bins for range of interest rate.</span>"
   ]
  },
  {
   "cell_type": "code",
   "execution_count": 27,
   "metadata": {
    "cell_id": "00050-1ac5a369-ed5b-4a99-ab9f-5b8e5f3356ad",
    "deepnote_cell_type": "code",
    "deepnote_to_be_reexecuted": false,
    "execution_millis": 1,
    "execution_start": 1610906361927,
    "id": "O50ty0cjiJdy",
    "source_hash": "5d228d6d",
    "tags": []
   },
   "outputs": [],
   "source": [
    "\n",
    "bins = [0, 7.5, 10, 12.5, 15,20]\n",
    "slot = ['0-7.5', '7.5-10', '10-12.5', '12.5-15', '15 and above']\n",
    "df['z_int_rate'] = pd.cut(df['int_rate'], bins, labels=slot)\n",
    "#df['int_rate_bins']= round(df.int_rate)\n"
   ]
  },
  {
   "cell_type": "markdown",
   "metadata": {
    "cell_id": "00051-22d5ca93-a14d-4bc1-9a3f-23f4f4defdbe",
    "deepnote_cell_type": "markdown",
    "id": "O0jzm1j7iJdy",
    "tags": []
   },
   "source": [
    "### <span style=\"color:orange\">7> Create Bins for range of DTI.</span>"
   ]
  },
  {
   "cell_type": "code",
   "execution_count": 28,
   "metadata": {
    "cell_id": "00052-bec1a837-d23c-4803-8f21-7a8e3c507975",
    "deepnote_cell_type": "code",
    "deepnote_to_be_reexecuted": false,
    "execution_millis": 0,
    "execution_start": 1610905382855,
    "id": "cqVGsyoSiJdz",
    "source_hash": "b623e53d",
    "tags": []
   },
   "outputs": [],
   "source": [
    "bins=[0,5,10,15,20,25,30]\n",
    "slot=['0-5','5-10','10-15','15-20','20-25','25-30']\n",
    "df['z_dti'] = pd.cut(df['dti'], bins=bins, labels=slot)"
   ]
  },
  {
   "cell_type": "markdown",
   "metadata": {
    "cell_id": "00058-9b7a7e1b-9e9c-4892-8ef0-cddc27303e86",
    "deepnote_cell_type": "markdown",
    "id": "vejU9QN1iJdz",
    "tags": []
   },
   "source": [
    "## UV Analysis"
   ]
  },
  {
   "cell_type": "markdown",
   "metadata": {
    "cell_id": "00063-68693206-10e2-49b4-9bf3-56821dc3c7da",
    "deepnote_cell_type": "markdown",
    "id": "iEeOnXUGjf-J"
   },
   "source": [
    "### The Key Feature - loan_status"
   ]
  },
  {
   "cell_type": "code",
   "execution_count": 29,
   "metadata": {
    "cell_id": "00064-bcf4a78b-3e01-4f5f-abc4-653546338da8",
    "colab": {
     "base_uri": "https://localhost:8080/",
     "height": 361
    },
    "deepnote_cell_type": "code",
    "executionInfo": {
     "elapsed": 1750,
     "status": "ok",
     "timestamp": 1610965378713,
     "user": {
      "displayName": "Surajit Das",
      "photoUrl": "",
      "userId": "12795377520497298003"
     },
     "user_tz": -330
    },
    "id": "sv68JEAWjiHY",
    "outputId": "3b7c987a-84be-491e-8e46-e3022c1c49fa"
   },
   "outputs": [
    {
     "data": {
      "image/png": "[encoded data removed]",
      "text/plain": [
       "<Figure size 720x360 with 2 Axes>"
      ]
     },
     "metadata": {},
     "output_type": "display_data"
    }
   ],
   "source": [
    "plt.figure(figsize=(10,5))\n",
    "plt.subplot(1,2,1)\n",
    "ndf = df.groupby('loan_status').loan_amnt.count().reset_index()\n",
    "gg0=sns.barplot(data=ndf, x='loan_status',y='loan_amnt')\n",
    "gg0.set_xticklabels(['Charge Off',\"Fully Paid\"], rotation=45)\n",
    "gg0.set_xlabel('loan_status')\n",
    "gg0.set_title(\"Loan Status Count\", fontsize=15)\n",
    "BarShowText(gg0)\n",
    "\n",
    "plt.subplot(1,2,2)\n",
    "gg1 = (df.groupby('loan_status').total_pymnt.sum() * 100 / df.groupby('loan_status').loan_amnt.sum()).plot.bar()\n",
    "gg1.set_ylabel('% loan recovered', fontsize=16)\n",
    "gg1.set_xticklabels(['Charge Off', \"Fully Paid\"], rotation=45)\n",
    "gg1.set_xlabel('loan_status')\n",
    "gg1.set_title(\"Loan Recovered\", fontsize=15)\n",
    "BarShowText(gg1)\n",
    "plt.tight_layout()\n",
    "plt.show()"
   ]
  },
  {
   "cell_type": "code",
   "execution_count": 30,
   "metadata": {
    "cell_id": "00065-bdcacf0f-3801-46b0-82ba-1f6aa330a67b",
    "colab": {
     "base_uri": "https://localhost:8080/"
    },
    "deepnote_cell_type": "code",
    "executionInfo": {
     "elapsed": 7812,
     "status": "ok",
     "timestamp": 1610947547611,
     "user": {
      "displayName": "Surajit Das",
      "photoUrl": "",
      "userId": "12795377520497298003"
     },
     "user_tz": -330
    },
    "id": "hBMnxabiouQL",
    "outputId": "23d8d444-da11-4b9f-ea77-451ab7e7bb02"
   },
   "outputs": [
    {
     "name": "stdout",
     "output_type": "stream",
     "text": [
      "14.15\n"
     ]
    }
   ],
   "source": [
    "#print(\"%.2f\" % (df.loc[df['z_loan_status'] == 1].z_loan_status.count() * 100/len(df)))\n",
    "print(\"%.2f\" % (df.loc[df['loan_status'] == \"Charged Off\"].loan_status.count() * 100/len(df)))"
   ]
  },
  {
   "cell_type": "markdown",
   "metadata": {
    "cell_id": "00068-bdf39cfa-78fe-4c48-8b52-ffce236e3162",
    "deepnote_cell_type": "markdown",
    "id": "3qwBa85RiJd0",
    "tags": []
   },
   "source": [
    "### UV Analysis:- 1>Annual Income"
   ]
  },
  {
   "cell_type": "code",
   "execution_count": 31,
   "metadata": {
    "cell_id": "00069-d8d6382b-2aff-48b7-bf30-3863151e0a19",
    "colab": {
     "base_uri": "https://localhost:8080/"
    },
    "deepnote_cell_type": "code",
    "deepnote_to_be_reexecuted": false,
    "executionInfo": {
     "elapsed": 7800,
     "status": "ok",
     "timestamp": 1610947547614,
     "user": {
      "displayName": "Surajit Das",
      "photoUrl": "",
      "userId": "12795377520497298003"
     },
     "user_tz": -330
    },
    "execution_millis": 1,
    "execution_start": 1610905382895,
    "id": "gQ8DMWIfiJd0",
    "outputId": "2740f6a4-d797-423b-bb77-353d8e2e83b3",
    "source_hash": "1ec7496",
    "tags": []
   },
   "outputs": [
    {
     "data": {
      "text/plain": [
       "count    3.548200e+04\n",
       "mean     6.902437e+04\n",
       "std      6.392552e+04\n",
       "min      4.000000e+03\n",
       "25%      4.124625e+04\n",
       "50%      6.000000e+04\n",
       "75%      8.230000e+04\n",
       "max      6.000000e+06\n",
       "Name: annual_inc, dtype: float64"
      ]
     },
     "execution_count": 31,
     "metadata": {},
     "output_type": "execute_result"
    }
   ],
   "source": [
    "df[\"annual_inc\"].describe()"
   ]
  },
  {
   "cell_type": "markdown",
   "metadata": {
    "cell_id": "00070-747c1942-8914-4055-87ad-98ee1705f80d",
    "deepnote_cell_type": "markdown",
    "id": "iw-PNxlMiJd0",
    "tags": []
   },
   "source": [
    "***6000000 is the max value which is approx 87 times more than mean value, so we will remove the outliers from Annual Income.\n",
    "Remove Outliers (values from 99 to 100%)***"
   ]
  },
  {
   "cell_type": "code",
   "execution_count": 32,
   "metadata": {
    "cell_id": "00071-87429848-5aff-4eca-b0ba-d37d5fc87d67",
    "colab": {
     "base_uri": "https://localhost:8080/"
    },
    "deepnote_cell_type": "code",
    "deepnote_to_be_reexecuted": false,
    "executionInfo": {
     "elapsed": 7793,
     "status": "ok",
     "timestamp": 1610947547614,
     "user": {
      "displayName": "Surajit Das",
      "photoUrl": "",
      "userId": "12795377520497298003"
     },
     "user_tz": -330
    },
    "execution_millis": 36,
    "execution_start": 1610905382898,
    "id": "B8E7HNxQiJd0",
    "outputId": "608997d5-1cdd-496e-9237-effca6283478",
    "source_hash": "c3518b7",
    "tags": []
   },
   "outputs": [
    {
     "data": {
      "text/plain": [
       "count     35292.000000\n",
       "mean      66516.689692\n",
       "std       36688.684551\n",
       "min        4000.000000\n",
       "25%       41000.000000\n",
       "50%       59418.000000\n",
       "75%       82000.000000\n",
       "max      294000.000000\n",
       "Name: annual_inc, dtype: float64"
      ]
     },
     "execution_count": 32,
     "metadata": {},
     "output_type": "execute_result"
    }
   ],
   "source": [
    "q = df[\"annual_inc\"].quantile(0.995)\n",
    "df = df[df[\"annual_inc\"] < q]\n",
    "df[\"annual_inc\"].describe()"
   ]
  },
  {
   "cell_type": "code",
   "execution_count": 33,
   "metadata": {
    "cell_id": "00072-182ba679-4bfc-4c4d-95b1-c518e59c325a",
    "colab": {
     "base_uri": "https://localhost:8080/",
     "height": 377
    },
    "deepnote_cell_type": "code",
    "deepnote_to_be_reexecuted": false,
    "executionInfo": {
     "elapsed": 8893,
     "status": "ok",
     "timestamp": 1610947548722,
     "user": {
      "displayName": "Surajit Das",
      "photoUrl": "",
      "userId": "12795377520497298003"
     },
     "user_tz": -330
    },
    "execution_millis": 1195,
    "execution_start": 1610905382938,
    "id": "DD6DVya3iJd1",
    "outputId": "2daa12e7-a0be-4017-f1f6-70f5fb0bbba3",
    "source_hash": "faa07019",
    "tags": []
   },
   "outputs": [
    {
     "data": {
      "image/png": "[encoded data removed]",
      "text/plain": [
       "<Figure size 720x288 with 3 Axes>"
      ]
     },
     "metadata": {},
     "output_type": "display_data"
    }
   ],
   "source": [
    "uv(df,df.annual_inc,0)"
   ]
  },
  {
   "cell_type": "markdown",
   "metadata": {
    "cell_id": "00073-27c368cb-16a1-4b0a-b9e3-d45ebdd75f47",
    "deepnote_cell_type": "markdown",
    "id": "KdNslEtkiJd1",
    "tags": []
   },
   "source": [
    "***Remarks: Most of the applicants earns beteen 40000 to 90000 USD annually.***"
   ]
  },
  {
   "cell_type": "code",
   "execution_count": 34,
   "metadata": {
    "cell_id": "00074-4e296105-a54f-4ec3-b27c-3546ae542628",
    "colab": {
     "base_uri": "https://localhost:8080/",
     "height": 142
    },
    "deepnote_cell_type": "code",
    "executionInfo": {
     "elapsed": 8884,
     "status": "ok",
     "timestamp": 1610947548723,
     "user": {
      "displayName": "Surajit Das",
      "photoUrl": "",
      "userId": "12795377520497298003"
     },
     "user_tz": -330
    },
    "id": "oxcCOMREyBh_",
    "outputId": "ff66b443-e92c-4991-b4e6-a9e198bfb1ca"
   },
   "outputs": [
    {
     "data": {
      "text/html": [
       "<div>\n",
       "<style scoped>\n",
       "    .dataframe tbody tr th:only-of-type {\n",
       "        vertical-align: middle;\n",
       "    }\n",
       "\n",
       "    .dataframe tbody tr th {\n",
       "        vertical-align: top;\n",
       "    }\n",
       "\n",
       "    .dataframe thead th {\n",
       "        text-align: right;\n",
       "    }\n",
       "</style>\n",
       "<table border=\"1\" class=\"dataframe\">\n",
       "  <thead>\n",
       "    <tr style=\"text-align: right;\">\n",
       "      <th></th>\n",
       "      <th>count</th>\n",
       "      <th>mean</th>\n",
       "      <th>std</th>\n",
       "      <th>min</th>\n",
       "      <th>25%</th>\n",
       "      <th>50%</th>\n",
       "      <th>75%</th>\n",
       "      <th>max</th>\n",
       "    </tr>\n",
       "    <tr>\n",
       "      <th>loan_status</th>\n",
       "      <th></th>\n",
       "      <th></th>\n",
       "      <th></th>\n",
       "      <th></th>\n",
       "      <th></th>\n",
       "      <th></th>\n",
       "      <th></th>\n",
       "      <th></th>\n",
       "    </tr>\n",
       "  </thead>\n",
       "  <tbody>\n",
       "    <tr>\n",
       "      <th>Charged Off</th>\n",
       "      <td>4999.0</td>\n",
       "      <td>12202.355471</td>\n",
       "      <td>8057.966022</td>\n",
       "      <td>1000.0</td>\n",
       "      <td>6000.0</td>\n",
       "      <td>10000.0</td>\n",
       "      <td>16800.0</td>\n",
       "      <td>35000.0</td>\n",
       "    </tr>\n",
       "    <tr>\n",
       "      <th>Fully Paid</th>\n",
       "      <td>30293.0</td>\n",
       "      <td>10896.343215</td>\n",
       "      <td>7137.930828</td>\n",
       "      <td>500.0</td>\n",
       "      <td>5400.0</td>\n",
       "      <td>9600.0</td>\n",
       "      <td>15000.0</td>\n",
       "      <td>35000.0</td>\n",
       "    </tr>\n",
       "  </tbody>\n",
       "</table>\n",
       "</div>"
      ],
      "text/plain": [
       "               count          mean          std     min     25%      50%  \\\n",
       "loan_status                                                                \n",
       "Charged Off   4999.0  12202.355471  8057.966022  1000.0  6000.0  10000.0   \n",
       "Fully Paid   30293.0  10896.343215  7137.930828   500.0  5400.0   9600.0   \n",
       "\n",
       "                 75%      max  \n",
       "loan_status                    \n",
       "Charged Off  16800.0  35000.0  \n",
       "Fully Paid   15000.0  35000.0  "
      ]
     },
     "execution_count": 34,
     "metadata": {},
     "output_type": "execute_result"
    }
   ],
   "source": [
    "df.groupby('loan_status')['loan_amnt'].describe()"
   ]
  },
  {
   "cell_type": "code",
   "execution_count": 35,
   "metadata": {
    "cell_id": "00077-de299a54-7794-4e7d-bcdb-b5ce61c1344b",
    "colab": {
     "base_uri": "https://localhost:8080/",
     "height": 414
    },
    "deepnote_cell_type": "code",
    "executionInfo": {
     "elapsed": 1854,
     "status": "ok",
     "timestamp": 1610954800992,
     "user": {
      "displayName": "Surajit Das",
      "photoUrl": "",
      "userId": "12795377520497298003"
     },
     "user_tz": -330
    },
    "id": "k4ekdVrq0srr",
    "outputId": "1c275ef8-c3b8-4045-9794-162d38361e8b"
   },
   "outputs": [
    {
     "name": "stdout",
     "output_type": "stream",
     "text": [
      "                                 Feature   Max   Min  Diff\n",
      "0  DEFAULT RATE (Based On  Z_ANNUAL_INC)  0.19  0.11  0.08\n"
     ]
    },
    {
     "data": {
      "image/png": "[encoded data removed]",
      "text/plain": [
       "<Figure size 1080x864 with 1 Axes>"
      ]
     },
     "metadata": {},
     "output_type": "display_data"
    }
   ],
   "source": [
    "grf2(df,['z_annual_inc'],1,12)"
   ]
  },
  {
   "cell_type": "markdown",
   "metadata": {},
   "source": [
    "***Remarks- As the annual income increases it lowers the risk of getting deafult loans***"
   ]
  },
  {
   "cell_type": "markdown",
   "metadata": {
    "cell_id": "00078-4b1784ba-9eed-424e-be26-daa59b481ec9",
    "deepnote_cell_type": "markdown",
    "id": "N6VKHAvsiJd1",
    "tags": []
   },
   "source": [
    "### UV Analysis:- 2> Interest Rate:"
   ]
  },
  {
   "cell_type": "code",
   "execution_count": 36,
   "metadata": {
    "cell_id": "00079-b83b4f26-b342-4e82-91aa-52f59294d49e",
    "colab": {
     "base_uri": "https://localhost:8080/"
    },
    "deepnote_cell_type": "code",
    "deepnote_to_be_reexecuted": false,
    "executionInfo": {
     "elapsed": 9700,
     "status": "ok",
     "timestamp": 1610947549560,
     "user": {
      "displayName": "Surajit Das",
      "photoUrl": "",
      "userId": "12795377520497298003"
     },
     "user_tz": -330
    },
    "execution_millis": 1692,
    "execution_start": 1610906384166,
    "id": "cDjCjcfniJd1",
    "outputId": "9950f0a5-031f-40b3-8388-5f31ebe18259",
    "source_hash": "c48097a3",
    "tags": []
   },
   "outputs": [
    {
     "data": {
      "image/png": "[encoded data removed]",
      "text/plain": [
       "<Figure size 720x288 with 3 Axes>"
      ]
     },
     "metadata": {},
     "output_type": "display_data"
    }
   ],
   "source": [
    "uv(df,df.int_rate, 0)"
   ]
  },
  {
   "cell_type": "markdown",
   "metadata": {
    "cell_id": "00080-afbc17a8-29fe-4512-9959-f64da84caf18",
    "deepnote_cell_type": "markdown",
    "id": "4sajfbGXiJd1",
    "tags": []
   },
   "source": [
    "**Remarks: Most of the loans interest rates are distributed between 8% to 15%.**"
   ]
  },
  {
   "cell_type": "code",
   "execution_count": 37,
   "metadata": {},
   "outputs": [
    {
     "name": "stdout",
     "output_type": "stream",
     "text": [
      "                               Feature   Max   Min  Diff\n",
      "0  DEFAULT RATE (Based On  Z_INT_RATE)  0.24  0.04   0.2\n"
     ]
    },
    {
     "data": {
      "image/png": "[encoded data removed]",
      "text/plain": [
       "<Figure size 1080x864 with 1 Axes>"
      ]
     },
     "metadata": {},
     "output_type": "display_data"
    }
   ],
   "source": [
    "grf2(df,['z_int_rate'],1,12)"
   ]
  },
  {
   "cell_type": "markdown",
   "metadata": {
    "cell_id": "00081-796360a1-e25f-4173-b75b-5aa35a6155dc",
    "deepnote_cell_type": "markdown",
    "id": "LTjgoIrviJd2",
    "tags": []
   },
   "source": [
    "### UV Analysis:- 3>loan_amount"
   ]
  },
  {
   "cell_type": "code",
   "execution_count": 38,
   "metadata": {
    "cell_id": "00082-40464386-f535-4a29-889f-51e14bc85fbb",
    "colab": {
     "base_uri": "https://localhost:8080/",
     "height": 377
    },
    "deepnote_cell_type": "code",
    "deepnote_to_be_reexecuted": false,
    "executionInfo": {
     "elapsed": 10980,
     "status": "ok",
     "timestamp": 1610947550846,
     "user": {
      "displayName": "Surajit Das",
      "photoUrl": "",
      "userId": "12795377520497298003"
     },
     "user_tz": -330
    },
    "execution_millis": 1380,
    "execution_start": 1610906394787,
    "id": "Z9jfqgSmiJd2",
    "outputId": "b0543d50-c429-42d3-fee2-8222f0b56da6",
    "source_hash": "2b2bf0ac",
    "tags": []
   },
   "outputs": [
    {
     "data": {
      "image/png": "[encoded data removed]",
      "text/plain": [
       "<Figure size 720x288 with 3 Axes>"
      ]
     },
     "metadata": {},
     "output_type": "display_data"
    }
   ],
   "source": [
    "uv(df, df.loan_amnt, 0)"
   ]
  },
  {
   "cell_type": "code",
   "execution_count": 39,
   "metadata": {
    "cell_id": "00084-d4d87cb8-ea9f-4426-be0d-b312be80304a",
    "colab": {
     "base_uri": "https://localhost:8080/",
     "height": 916
    },
    "deepnote_cell_type": "code",
    "executionInfo": {
     "elapsed": 1902,
     "status": "ok",
     "timestamp": 1610966939853,
     "user": {
      "displayName": "Surajit Das",
      "photoUrl": "",
      "userId": "12795377520497298003"
     },
     "user_tz": -330
    },
    "id": "v0K78XPlGu9C",
    "outputId": "b67b2160-4038-401a-d8ea-5cf5ce681add"
   },
   "outputs": [
    {
     "name": "stdout",
     "output_type": "stream",
     "text": [
      "                                Feature   Max   Min  Diff\n",
      "0  DEFAULT RATE (Based On  Z_LOAN_AMNT)  0.23  0.12  0.11\n"
     ]
    },
    {
     "data": {
      "image/png": "[encoded data removed]",
      "text/plain": [
       "<Figure size 1080x864 with 1 Axes>"
      ]
     },
     "metadata": {},
     "output_type": "display_data"
    }
   ],
   "source": [
    "lst2=[\"z_loan_amnt\"]\n",
    "grf2(df,lst2,1, 12)"
   ]
  },
  {
   "cell_type": "markdown",
   "metadata": {
    "cell_id": "00085-98609f02-de5e-441c-9dae-9ae784ce6935",
    "deepnote_cell_type": "markdown",
    "id": "vT6w8qP9iJd2",
    "tags": []
   },
   "source": [
    "**<span style=\"color:blue\">Remarks: In maximum cases the loan amounts are distributed between 6000 to 16000 USD. As the loan amount increases risk of loan to be default also increases</span>**"
   ]
  },
  {
   "cell_type": "code",
   "execution_count": 40,
   "metadata": {
    "cell_id": "00086-11a3014d-ef65-4709-8d79-3cf51d64fc58",
    "colab": {
     "base_uri": "https://localhost:8080/",
     "height": 1000
    },
    "deepnote_cell_type": "code",
    "deepnote_to_be_reexecuted": false,
    "executionInfo": {
     "elapsed": 4984,
     "status": "ok",
     "timestamp": 1610966431061,
     "user": {
      "displayName": "Surajit Das",
      "photoUrl": "",
      "userId": "12795377520497298003"
     },
     "user_tz": -330
    },
    "execution_millis": 2055,
    "execution_start": 1610906403014,
    "id": "bjx5zFRsiJd2",
    "outputId": "c1d9e823-2a9e-4af6-c050-7cb061a7dbe7",
    "source_hash": "64e02f54",
    "tags": []
   },
   "outputs": [
    {
     "name": "stdout",
     "output_type": "stream",
     "text": [
      "                                         Feature   Max   Min  Diff\n",
      "0                 DEFAULT RATE (Based On  GRADE)  0.34  0.06  0.28\n",
      "5  DEFAULT RATE (Based On  PUB_REC_BANKRUPTCIES)  0.40  0.14  0.26\n",
      "1               DEFAULT RATE (Based On  PURPOSE)  0.27  0.10  0.17\n",
      "4                  DEFAULT RATE (Based On  TERM)  0.25  0.11  0.14\n",
      "2        DEFAULT RATE (Based On  HOME_OWNERSHIP)  0.19  0.13  0.06\n",
      "3   DEFAULT RATE (Based On  VERIFICATION_STATUS)  0.16  0.12  0.04\n"
     ]
    },
    {
     "data": {
      "image/png": "[encoded data removed]",
      "text/plain": [
       "<Figure size 1080x1080 with 6 Axes>"
      ]
     },
     "metadata": {},
     "output_type": "display_data"
    }
   ],
   "source": [
    "lst=[\"grade\",\"purpose\",\"home_ownership\", 'verification_status','term','pub_rec_bankruptcies']\n",
    "grf2(df,lst,2.,15)"
   ]
  },
  {
   "cell_type": "code",
   "execution_count": 41,
   "metadata": {
    "cell_id": "00088-ad6aa015-0536-4766-a5b0-fd15c244d2fe",
    "colab": {
     "base_uri": "https://localhost:8080/",
     "height": 916
    },
    "deepnote_cell_type": "code",
    "executionInfo": {
     "elapsed": 3204,
     "status": "ok",
     "timestamp": 1610956213947,
     "user": {
      "displayName": "Surajit Das",
      "photoUrl": "",
      "userId": "12795377520497298003"
     },
     "user_tz": -330
    },
    "id": "aTfbPExWPgJo",
    "outputId": "07b4b9cc-4748-4c74-9522-3d3891f889ee"
   },
   "outputs": [
    {
     "name": "stdout",
     "output_type": "stream",
     "text": [
      "                              Feature   Max   Min  Diff\n",
      "0  DEFAULT RATE (Based On  SUB_GRADE)  0.47  0.02  0.45\n",
      "1      DEFAULT RATE (Based On  Z_DTI)  0.16  0.12  0.04\n"
     ]
    },
    {
     "data": {
      "image/png": "[encoded data removed]",
      "text/plain": [
       "<Figure size 1080x864 with 2 Axes>"
      ]
     },
     "metadata": {},
     "output_type": "display_data"
    }
   ],
   "source": [
    "lst2=[\"sub_grade\",\"z_dti\"]\n",
    "grf2(df,lst2,1, 12)"
   ]
  },
  {
   "cell_type": "markdown",
   "metadata": {
    "cell_id": "00087-617b152f-49ad-4fc6-a6f1-f9459493e5dd",
    "deepnote_cell_type": "markdown",
    "id": "M0FEq0SxJJcm"
   },
   "source": [
    "<font color='blue'>OBSERVATION & REMARKS:</font><br><b>\n",
    "1. Loan Applicants having home ownership in 'Others' and 'Rent' are tend to be defaulters.<b>\n",
    "2. As annnual income of applicant increases risk of loan to be default decreases\n",
    "3. 'Small Business' as purpose of loan have the highest charged off percentage. Reject the loans with 'Small Business' as purpose of loans.<b>\n",
    "4. Verified and Source Verified loans have higher default loans, loan verification process needs to be reviewed and audited.<b>\n",
    "5. Higher term loans have more tendency to be default than lower term loans.<b>\n",
    "6. Avoid givning loans  to applicant having any public record pf bankruptcies.<b>\n",
    "7. A and B grade loans are safe loans. This is also supported by sub-grade.<b>\n"
   ]
  },
  {
   "cell_type": "markdown",
   "metadata": {
    "cell_id": "00098-26273b60-945f-474f-a314-9d932305c8d4",
    "deepnote_cell_type": "markdown",
    "id": "D6SdTJDVRBaP"
   },
   "source": [
    "# Bivariate Analysis"
   ]
  },
  {
   "cell_type": "code",
   "execution_count": 42,
   "metadata": {},
   "outputs": [
    {
     "data": {
      "image/png": "[encoded data removed]",
      "text/plain": [
       "<Figure size 576x396 with 1 Axes>"
      ]
     },
     "metadata": {},
     "output_type": "display_data"
    }
   ],
   "source": [
    "default_rate_bivariate(df,'term','grade')"
   ]
  },
  {
   "cell_type": "code",
   "execution_count": 43,
   "metadata": {},
   "outputs": [
    {
     "data": {
      "image/png": "[encoded data removed]",
      "text/plain": [
       "<Figure size 576x396 with 1 Axes>"
      ]
     },
     "metadata": {},
     "output_type": "display_data"
    }
   ],
   "source": [
    "default_rate_bivariate(df,'emp_length','term')"
   ]
  },
  {
   "cell_type": "markdown",
   "metadata": {
    "cell_id": "00099-57e8b9d2-309b-478f-b630-f510cfcd15a0",
    "deepnote_cell_type": "markdown",
    "id": "jzfA84CPRPsY"
   },
   "source": [
    "#### **Loan Disbursment vs Year graph**"
   ]
  },
  {
   "cell_type": "code",
   "execution_count": 44,
   "metadata": {
    "cell_id": "00100-5cc90e84-2b28-4f8d-904b-6b786cf8f738",
    "colab": {
     "base_uri": "https://localhost:8080/",
     "height": 294
    },
    "deepnote_cell_type": "code",
    "executionInfo": {
     "elapsed": 14502,
     "status": "ok",
     "timestamp": 1610947554405,
     "user": {
      "displayName": "Surajit Das",
      "photoUrl": "",
      "userId": "12795377520497298003"
     },
     "user_tz": -330
    },
    "id": "OBvvC5bPQ6QI",
    "outputId": "7c51069d-45fa-4a1e-b8e2-73a972a0256d"
   },
   "outputs": [
    {
     "data": {
      "image/png": "[encoded data removed]",
      "text/plain": [
       "<Figure size 576x288 with 1 Axes>"
      ]
     },
     "metadata": {},
     "output_type": "display_data"
    }
   ],
   "source": [
    "plt.figure(figsize=(8,4))\n",
    "df.groupby('z_iss_y').loan_amnt.sum().plot(kind='line', fontsize=7)\n",
    "plt.xlabel(\"Year of Issue of Loan\", fontsize=12)\n",
    "plt.ylabel(\"Loan Amount\", fontsize=12)\n",
    "plt.show()"
   ]
  },
  {
   "cell_type": "markdown",
   "metadata": {
    "cell_id": "00101-31600caf-12b0-44b9-acb8-57787c3092f2",
    "deepnote_cell_type": "markdown",
    "id": "3CEvlEueW1Gg"
   },
   "source": [
    "\n",
    "#### **Avg. loan_amnt vs Year**"
   ]
  },
  {
   "cell_type": "code",
   "execution_count": 45,
   "metadata": {
    "cell_id": "00102-2f8b24d8-88e1-4978-befc-313be2f1e18e",
    "colab": {
     "base_uri": "https://localhost:8080/",
     "height": 294
    },
    "deepnote_cell_type": "code",
    "executionInfo": {
     "elapsed": 14494,
     "status": "ok",
     "timestamp": 1610947554407,
     "user": {
      "displayName": "Surajit Das",
      "photoUrl": "",
      "userId": "12795377520497298003"
     },
     "user_tz": -330
    },
    "id": "G7aLOY6bWxvR",
    "outputId": "ba1e67cf-9532-4f4f-d677-34a25195afa2"
   },
   "outputs": [
    {
     "data": {
      "image/png": "[encoded data removed]",
      "text/plain": [
       "<Figure size 576x288 with 1 Axes>"
      ]
     },
     "metadata": {},
     "output_type": "display_data"
    }
   ],
   "source": [
    "plt.figure(figsize=(8,4))\n",
    "df.groupby('z_iss_y').loan_amnt.mean().plot(kind='line', fontsize=7)\n",
    "plt.xlabel(\"Year of Issue of Loan\", fontsize=12)\n",
    "plt.ylabel(\"Avg. Loan Amount\", fontsize=12)\n",
    "plt.show()"
   ]
  },
  {
   "cell_type": "markdown",
   "metadata": {
    "cell_id": "00103-991519d0-4e2f-4155-a0c7-de7bb451ba87",
    "deepnote_cell_type": "markdown",
    "id": "PpYiDyCAZp0K"
   },
   "source": [
    "Observation:\n",
    "\n",
    "Average loan amount dropped sharply in 2008"
   ]
  },
  {
   "cell_type": "markdown",
   "metadata": {
    "cell_id": "00104-92a460da-beab-41c9-bf25-a805eac2d8a5",
    "deepnote_cell_type": "markdown",
    "id": "VUmuN-S6aGBp"
   },
   "source": [
    "#### **loan_amnt and annual_inc**"
   ]
  },
  {
   "cell_type": "code",
   "execution_count": 46,
   "metadata": {
    "cell_id": "00105-ba083260-0797-4863-b569-7e81259ff6c3",
    "colab": {
     "base_uri": "https://localhost:8080/",
     "height": 487
    },
    "deepnote_cell_type": "code",
    "executionInfo": {
     "elapsed": 16503,
     "status": "ok",
     "timestamp": 1610947556425,
     "user": {
      "displayName": "Surajit Das",
      "photoUrl": "",
      "userId": "12795377520497298003"
     },
     "user_tz": -330
    },
    "id": "uy7NlWqDaEbk",
    "outputId": "27585c0c-f52b-4cf3-c3bc-ba0b778ae396"
   },
   "outputs": [
    {
     "data": {
      "image/png": "[encoded data removed]",
      "text/plain": [
       "<Figure size 576x396 with 1 Axes>"
      ]
     },
     "metadata": {},
     "output_type": "display_data"
    }
   ],
   "source": [
    "sns.scatterplot(x='annual_inc', y='loan_amnt',data=df[df.loan_status=='Charged Off'],hue='loan_status')\n",
    "plt.show()"
   ]
  },
  {
   "cell_type": "markdown",
   "metadata": {},
   "source": [
    "#### grade vs loan_amnt"
   ]
  },
  {
   "cell_type": "code",
   "execution_count": 47,
   "metadata": {
    "cell_id": "00108-bd1cce87-0cb4-4626-a099-88a958458c2d",
    "colab": {
     "base_uri": "https://localhost:8080/",
     "height": 450
    },
    "deepnote_cell_type": "code",
    "executionInfo": {
     "elapsed": 16491,
     "status": "ok",
     "timestamp": 1610947556427,
     "user": {
      "displayName": "Surajit Das",
      "photoUrl": "",
      "userId": "12795377520497298003"
     },
     "user_tz": -330
    },
    "id": "33z-clldcB7f",
    "outputId": "89a5385e-719e-4f71-9bfe-1e6cb53a9888"
   },
   "outputs": [
    {
     "data": {
      "image/png": "[encoded data removed]",
      "text/plain": [
       "<Figure size 576x396 with 1 Axes>"
      ]
     },
     "metadata": {},
     "output_type": "display_data"
    }
   ],
   "source": [
    "sns.boxplot(data=df,x='grade',y='loan_amnt',order=df.grade.value_counts().sort_index().index)\n",
    "plt.show()"
   ]
  },
  {
   "cell_type": "markdown",
   "metadata": {
    "cell_id": "00114-dcf0dd44-8a1a-44d3-8b5b-55d141e150c0",
    "deepnote_cell_type": "markdown",
    "id": "sppDEefIe--J"
   },
   "source": [
    "#### **Interest Rate and Term**"
   ]
  },
  {
   "cell_type": "code",
   "execution_count": 48,
   "metadata": {
    "cell_id": "00115-d72806ca-e02c-47ea-91fd-4e10fa36962d",
    "colab": {
     "base_uri": "https://localhost:8080/",
     "height": 450
    },
    "deepnote_cell_type": "code",
    "executionInfo": {
     "elapsed": 17935,
     "status": "ok",
     "timestamp": 1610947557900,
     "user": {
      "displayName": "Surajit Das",
      "photoUrl": "",
      "userId": "12795377520497298003"
     },
     "user_tz": -330
    },
    "id": "WqfYT13Pe55E",
    "outputId": "e0661911-a7d3-4846-ff0c-c867f9a870a6"
   },
   "outputs": [
    {
     "data": {
      "image/png": "[encoded data removed]",
      "text/plain": [
       "<Figure size 576x396 with 1 Axes>"
      ]
     },
     "metadata": {},
     "output_type": "display_data"
    }
   ],
   "source": [
    "sns.boxplot(data=df,x='term',y='int_rate',order=df.term.value_counts().sort_index().index)\n",
    "plt.show()"
   ]
  },
  {
   "cell_type": "markdown",
   "metadata": {
    "cell_id": "00116-ef9b8c31-9c9b-4ce4-8402-5cba7e464497",
    "deepnote_cell_type": "markdown",
    "id": "yzwhfcC4fozF"
   },
   "source": [
    "\n",
    "Observation:\n",
    "\n",
    "Term wise interest_rate. Larger amounts were seen to be given for higher term. Ther rate of intrest associated with them is also high."
   ]
  },
  {
   "cell_type": "code",
   "execution_count": 49,
   "metadata": {
    "cell_id": "00117-9906b7f5-f313-4d17-bbf3-60efd9b8e4e5",
    "colab": {
     "base_uri": "https://localhost:8080/",
     "height": 420
    },
    "deepnote_cell_type": "code",
    "executionInfo": {
     "elapsed": 17928,
     "status": "ok",
     "timestamp": 1610947557901,
     "user": {
      "displayName": "Surajit Das",
      "photoUrl": "",
      "userId": "12795377520497298003"
     },
     "user_tz": -330
    },
    "id": "GGFBvcKMevy_",
    "outputId": "e60e6851-62d3-4327-f067-9da0d28ab42c"
   },
   "outputs": [
    {
     "data": {
      "image/png": "[encoded data removed]",
      "text/plain": [
       "<Figure size 576x396 with 1 Axes>"
      ]
     },
     "metadata": {},
     "output_type": "display_data"
    }
   ],
   "source": [
    "sns.boxplot(data=df,x='grade',y='int_rate',order=df.grade.value_counts().sort_index().index)\n",
    "plt.show()"
   ]
  },
  {
   "cell_type": "code",
   "execution_count": 50,
   "metadata": {},
   "outputs": [
    {
     "data": {
      "image/png": "[encoded data removed]",
      "text/plain": [
       "<Figure size 576x396 with 1 Axes>"
      ]
     },
     "metadata": {},
     "output_type": "display_data"
    }
   ],
   "source": [
    "sns.boxplot(data=df,x='sub_grade',y='int_rate',order=df.sub_grade.value_counts().sort_index().index)\n",
    "plt.show()"
   ]
  },
  {
   "cell_type": "markdown",
   "metadata": {},
   "source": [
    "#### Obeservation- Lower the grades and subgrades higher the interest rate. Hence the more default loans"
   ]
  },
  {
   "cell_type": "markdown",
   "metadata": {},
   "source": [
    "### Information Content Analysis"
   ]
  },
  {
   "cell_type": "code",
   "execution_count": 51,
   "metadata": {},
   "outputs": [
    {
     "data": {
      "text/html": [
       "<div>\n",
       "<style scoped>\n",
       "    .dataframe tbody tr th:only-of-type {\n",
       "        vertical-align: middle;\n",
       "    }\n",
       "\n",
       "    .dataframe tbody tr th {\n",
       "        vertical-align: top;\n",
       "    }\n",
       "\n",
       "    .dataframe thead th {\n",
       "        text-align: right;\n",
       "    }\n",
       "</style>\n",
       "<table border=\"1\" class=\"dataframe\">\n",
       "  <thead>\n",
       "    <tr style=\"text-align: right;\">\n",
       "      <th></th>\n",
       "      <th>Predictor</th>\n",
       "      <th>Information Content</th>\n",
       "    </tr>\n",
       "  </thead>\n",
       "  <tbody>\n",
       "    <tr>\n",
       "      <th>9</th>\n",
       "      <td>sub_grade</td>\n",
       "      <td>0.45</td>\n",
       "    </tr>\n",
       "    <tr>\n",
       "      <th>3</th>\n",
       "      <td>grade</td>\n",
       "      <td>0.28</td>\n",
       "    </tr>\n",
       "    <tr>\n",
       "      <th>8</th>\n",
       "      <td>pub_rec_bankruptcies</td>\n",
       "      <td>0.26</td>\n",
       "    </tr>\n",
       "    <tr>\n",
       "      <th>1</th>\n",
       "      <td>z_int_rate</td>\n",
       "      <td>0.20</td>\n",
       "    </tr>\n",
       "    <tr>\n",
       "      <th>4</th>\n",
       "      <td>purpose</td>\n",
       "      <td>0.17</td>\n",
       "    </tr>\n",
       "    <tr>\n",
       "      <th>7</th>\n",
       "      <td>term</td>\n",
       "      <td>0.14</td>\n",
       "    </tr>\n",
       "    <tr>\n",
       "      <th>2</th>\n",
       "      <td>z_loan_amnt</td>\n",
       "      <td>0.11</td>\n",
       "    </tr>\n",
       "    <tr>\n",
       "      <th>0</th>\n",
       "      <td>z_annual_inc</td>\n",
       "      <td>0.08</td>\n",
       "    </tr>\n",
       "    <tr>\n",
       "      <th>5</th>\n",
       "      <td>home_ownership</td>\n",
       "      <td>0.06</td>\n",
       "    </tr>\n",
       "    <tr>\n",
       "      <th>6</th>\n",
       "      <td>verification_status</td>\n",
       "      <td>0.04</td>\n",
       "    </tr>\n",
       "    <tr>\n",
       "      <th>10</th>\n",
       "      <td>z_dti</td>\n",
       "      <td>0.04</td>\n",
       "    </tr>\n",
       "  </tbody>\n",
       "</table>\n",
       "</div>"
      ],
      "text/plain": [
       "               Predictor  Information Content\n",
       "9              sub_grade                 0.45\n",
       "3                  grade                 0.28\n",
       "8   pub_rec_bankruptcies                 0.26\n",
       "1             z_int_rate                 0.20\n",
       "4                purpose                 0.17\n",
       "7                   term                 0.14\n",
       "2            z_loan_amnt                 0.11\n",
       "0           z_annual_inc                 0.08\n",
       "5         home_ownership                 0.06\n",
       "6    verification_status                 0.04\n",
       "10                 z_dti                 0.04"
      ]
     },
     "execution_count": 51,
     "metadata": {},
     "output_type": "execute_result"
    }
   ],
   "source": [
    "infm_content = pd.DataFrame(list(information_content.items()),columns=['Predictor','Information Content']) \n",
    "infm_content.sort_values(by='Information Content', ascending=False)"
   ]
  },
  {
   "cell_type": "code",
   "execution_count": null,
   "metadata": {},
   "outputs": [],
   "source": []
  }
 ],
 "metadata": {
  "colab": {
   "collapsed_sections": [
    "MuKhZTgLiJdt",
    "WqvkS4h7iJdu",
    "eZNCrHcZiJdv",
    "1qvf9RhviJdw",
    "ErjJiG_tiJdw",
    "FmAR4vHJiJdx",
    "syqivAxviJdx",
    "zjOArdz0iJdx",
    "AGhXT4xliJdy",
    "GU9aaFvbiJdz",
    "N6VKHAvsiJd1"
   ],
   "name": "z_xxx.ipynb",
   "provenance": []
  },
  "deepnote_execution_queue": [],
  "deepnote_notebook_id": "208df17b-383a-40bb-bb1d-c0d41525c27f",
  "kernelspec": {
   "display_name": "Python 3",
   "language": "python",
   "name": "python3"
  },
  "language_info": {
   "codemirror_mode": {
    "name": "ipython",
    "version": 3
   },
   "file_extension": ".py",
   "mimetype": "text/x-python",
   "name": "python",
   "nbconvert_exporter": "python",
   "pygments_lexer": "ipython3",
   "version": "3.8.3"
  }
 },
 "nbformat": 4,
 "nbformat_minor": 1
}
